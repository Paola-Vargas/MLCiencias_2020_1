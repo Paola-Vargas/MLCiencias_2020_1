{
 "cells": [
  {
   "cell_type": "markdown",
   "metadata": {},
   "source": [
    "## Tarea 1 Primera Parte\n",
    "### Seminario de Estadística \n",
    "Debera entregar su tarea en este notebook (prohibido usar R).\n",
    "\n"
   ]
  },
  {
   "cell_type": "markdown",
   "metadata": {},
   "source": [
    "1.- Ajuste un modelo de regresión multiple para los datos de crimen, explique. \n",
    "\n",
    "1. ¿Qué observaba acerca de los coeficientes obtenidos?\n",
    "2. ¿Cuantos posibles submodelos puede ajustar? \n",
    "3. Considerando una sola covariable. ¿ Cuál es el mejor submodelo sin considerar la propiedad de consistencia del estimador que minimiza la función de Riesgo $A(f,\\hat{f})$. Grafique el modelo regresión con los datos experimentales.\n",
    "4. Use el criterio de información Bayesiana para seleccionar el mejor submodelo.   \n",
    "5. Ahora considerando todas las covariables reduzca al mejor submodelo."
   ]
  },
  {
   "cell_type": "markdown",
   "metadata": {},
   "source": [
    "2.- Asuma un modelo de regresión lineal con errores normales y $\\sigma$ conocida. Mostrar que el modelo con AIC mas grande es el modelo con $C_p$ Mallows más pequeño."
   ]
  },
  {
   "cell_type": "markdown",
   "metadata": {},
   "source": [
    "3.- Con los datos del creditos, obtenga el performance del modelo. Obtenga el error empirico, con una muestra de entrenamiento training_sample=60,70,80,9.\n"
   ]
  }
 ],
 "metadata": {
  "kernelspec": {
   "display_name": "Python 3",
   "language": "python",
   "name": "python3"
  },
  "language_info": {
   "codemirror_mode": {
    "name": "ipython",
    "version": 3
   },
   "file_extension": ".py",
   "mimetype": "text/x-python",
   "name": "python",
   "nbconvert_exporter": "python",
   "pygments_lexer": "ipython3",
   "version": "3.7.3"
  }
 },
 "nbformat": 4,
 "nbformat_minor": 2
}
