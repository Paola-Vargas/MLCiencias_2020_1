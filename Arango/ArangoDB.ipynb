{
 "cells": [
  {
   "cell_type": "code",
   "execution_count": 15,
   "metadata": {},
   "outputs": [],
   "source": [
    "import pyArango.connection as arc\n",
    "import numpy as np\n",
    "import json as js"
   ]
  },
  {
   "cell_type": "code",
   "execution_count": 39,
   "metadata": {},
   "outputs": [],
   "source": [
    "conn = arc.Connection(username=\"root\", password=\"admin\")"
   ]
  },
  {
   "cell_type": "markdown",
   "metadata": {},
   "source": [
    "Creamos una base de datos \n",
    "Por default Arango intenta establecer conexion a http://127.0.0.1:8529. Si tienes alojado ArangoDB en un server diferente necesitas poner esa opción cuando crees una instancia de la clase Connection .  "
   ]
  },
  {
   "cell_type": "markdown",
   "metadata": {},
   "source": [
    "En caso de que la base de datos ya exista para abrirla, suponiendo que se llama Facultad se hace de la siguiente manera"
   ]
  },
  {
   "cell_type": "code",
   "execution_count": 40,
   "metadata": {},
   "outputs": [],
   "source": [
    "#creamos la base de datos\n",
    "#db = conn.createDatabase(name=\"fciencias\")\n",
    "#cargamos la base por default del sistema\n",
    "db = conn[\"fciencias\"]"
   ]
  },
  {
   "cell_type": "markdown",
   "metadata": {},
   "source": [
    "Los **documentos** que usted almacena en ArangoDB siguen de cerca el formato JSON, sin embargo se almacenan como un formato binario llamado VelocyPack, en MongoDB el formato binario  es BJSON . Un documento contiene cero o mas atributos y cada uno de esos atributos tienen un valor. Un valor puede ser un tipo átomico es decir un número, un string, boleano o nulo. O un tipo compuesto\n",
    "como lo es un array o documento embebido / objetos. \n",
    "Los arrays y los sub-bjetos pueden contener todos estos tipos, lo que significa que las estructuras de datos anidadas arbitrariamente se pueden representar en un solo documento.\n",
    "\n",
    "Los documentos se agrupan en **Colecciones**. Las colecciones continen cero o más documentos. Si estas familiarizado con (RDBMS), entónces asociaras las colecciones con las tablas y las filas con los documentos. La gran diferencia es que las (RDBMS) tradicionales se tienen que definir columnas antes de empezar a almacenar registros en una tabla, tales definiciones son los esquemas (una agrupación lógica para los artefactos de base de datos). **ArangoDB** es un schema-less, esto quiere decir que no necesitas definir que atributos debe tener un documento. "
   ]
  },
  {
   "cell_type": "markdown",
   "metadata": {},
   "source": [
    "Hay 2 tipos de colecciones: colecciones de documentos (también conocidos como una colecciones de vertices en el contexto de gráficas) así como colecciones de aristas. Las colecciones de aristas también almacenan documentos pero incluyen el atributo especial (_from y _to ) los cuales se usan para crear relaciones entre documentos. Dos documentos (vertices) almacenados en una colección de documentos son vinculados por un documento (arista) almacenado en una colección. Por eso **ArangoBD** esta orientado a grafos. Sigue el concepto matemático de grafo dirigido. y etiquetado, excepto que en los nodos no sólo tienen eqiquetas si no documentos. \n",
    "**:O :O**"
   ]
  },
  {
   "cell_type": "code",
   "execution_count": 20,
   "metadata": {},
   "outputs": [],
   "source": [
    "#db.createCollection(name=\"Estudiantes\")"
   ]
  },
  {
   "cell_type": "code",
   "execution_count": 21,
   "metadata": {},
   "outputs": [
    {
     "data": {
      "text/plain": [
       "ArangoDB collection name: Estudiantes, id: 1869, type: document, status: loaded"
      ]
     },
     "execution_count": 21,
     "metadata": {},
     "output_type": "execute_result"
    }
   ],
   "source": [
    "#cargamos la coleccion \n",
    "coleccionEstudiantes=db['Estudiantes']\n",
    "coleccionEstudiantes"
   ]
  },
  {
   "cell_type": "markdown",
   "metadata": {},
   "source": [
    "Ahora vamos a crear un documento"
   ]
  },
  {
   "cell_type": "code",
   "execution_count": 24,
   "metadata": {},
   "outputs": [],
   "source": [
    "doc0=coleccionEstudiantes.createDocument()\n",
    "doc0[\"nombre\"]=\"Juanito Perez jolote\"\n",
    "doc0.save() #guardamos el documento"
   ]
  },
  {
   "cell_type": "code",
   "execution_count": 25,
   "metadata": {},
   "outputs": [],
   "source": [
    "doc1=coleccionEstudiantes.createDocument()\n",
    "doc1[\"nombre\"]=\"juan2\"\n",
    "doc1[\"apellido\"]=\"Gonzalez\"\n",
    "doc1[\"Calif\"]=[10,2,9,7,8]\n",
    "doc1._key = \"juan\"\n",
    "doc1.save()"
   ]
  },
  {
   "cell_type": "markdown",
   "metadata": {},
   "source": [
    "### AQL\n",
    "Arango DB cuenta con un lenguaje de consulta (AQL=ArangoDB Query Lenguages ) para recuperar y modificar los datos almancenados. AQL es principalmente un lenaguaje declarativo, el que especificamos que queremos obtener y no como obtenerlo.\n",
    "A continuació haremos un simple CRUD para familiarizarnos con AQL"
   ]
  },
  {
   "cell_type": "code",
   "execution_count": 27,
   "metadata": {},
   "outputs": [],
   "source": [
    "doc2=coleccionEstudiantes.createDocument()\n",
    "doc2={'_key':'key0','nombre':'Jose','edad':23,'tareaspromedio':[[10,7,8],[8,5,8]],'examenes':{'mate':2,'fisica':4}}\n",
    "bind = {\"doc\": doc2} #usar un especie de alias para no acceder directamente a doc3 para evitar cualquier problema de inyeccionsql\n",
    "aql = \"INSERT @doc INTO Estudiantes LET ndocumento = NEW RETURN ndocumento\"\n",
    "queryResult = db.AQLQuery(aql, bindVars=bind)"
   ]
  },
  {
   "cell_type": "code",
   "execution_count": 28,
   "metadata": {},
   "outputs": [
    {
     "data": {
      "text/plain": [
       "<pyArango.query.AQLQuery at 0x1750ddf9080>"
      ]
     },
     "execution_count": 28,
     "metadata": {},
     "output_type": "execute_result"
    }
   ],
   "source": [
    "doc3=coleccionEstudiantes.createDocument()\n",
    "doc3={'_key':'Andres8','nombre':'Eljose','edad':23,'tareaspromedio':[\"HOLA\",2,3.3], 'examenes':{'mate':2,'fisica':4}}\n",
    "bind = {\"doc\": doc3}\n",
    "aql = \"INSERT @doc INTO Estudiantes RETURN NEW\"\n",
    "queryResult = db.AQLQuery(aql, bindVars=bind)\n",
    "queryResult"
   ]
  },
  {
   "cell_type": "code",
   "execution_count": 29,
   "metadata": {},
   "outputs": [
    {
     "data": {
      "text/plain": [
       "<pyArango.query.AQLQuery at 0x1750dd972b0>"
      ]
     },
     "execution_count": 29,
     "metadata": {},
     "output_type": "execute_result"
    }
   ],
   "source": [
    "doc4=coleccionEstudiantes.createDocument()\n",
    "doc4={'_key':'prueba0','nombre':'prueba1','edad':23,'tareaspromedio':[\"HOLA\",2,3.3], 'examenes':{'mate':2,'fisica':4}}\n",
    "bind = {\"doc\": doc4}\n",
    "aql = \"INSERT @doc INTO Estudiantes\"\n",
    "queryResult = db.AQLQuery(aql, bindVars=bind)\n",
    "queryResult"
   ]
  },
  {
   "cell_type": "markdown",
   "metadata": {},
   "source": [
    "#### Insert de JSON file "
   ]
  },
  {
   "cell_type": "code",
   "execution_count": 41,
   "metadata": {},
   "outputs": [
    {
     "data": {
      "text/plain": [
       "ArangoDB collection name: Delitos, id: 191979, type: document, status: loaded"
      ]
     },
     "execution_count": 41,
     "metadata": {},
     "output_type": "execute_result"
    }
   ],
   "source": [
    "db.createCollection(name=\"Delitos\")"
   ]
  },
  {
   "cell_type": "code",
   "execution_count": 42,
   "metadata": {},
   "outputs": [
    {
     "data": {
      "text/plain": [
       "ArangoDB collection name: Delitos, id: 191979, type: document, status: loaded"
      ]
     },
     "execution_count": 42,
     "metadata": {},
     "output_type": "execute_result"
    }
   ],
   "source": [
    "db['Delitos']"
   ]
  },
  {
   "cell_type": "code",
   "execution_count": 43,
   "metadata": {},
   "outputs": [],
   "source": [
    "with open('denuncias-victimas.json', 'r') as f:\n",
    "    data = js.load(f)"
   ]
  },
  {
   "cell_type": "code",
   "execution_count": 45,
   "metadata": {},
   "outputs": [],
   "source": [
    "bind = {\"dat\": data}\n",
    "aql = \"FOR d IN @dat INSERT d INTO Delitos\"\n",
    "queryResult = db.AQLQuery(aql, bindVars=bind)"
   ]
  },
  {
   "cell_type": "code",
   "execution_count": 59,
   "metadata": {},
   "outputs": [
    {
     "data": {
      "text/plain": [
       "{'result': [67979],\n",
       " 'hasMore': False,\n",
       " 'cached': False,\n",
       " 'extra': {'stats': {'writesExecuted': 0,\n",
       "   'writesIgnored': 0,\n",
       "   'scannedFull': 0,\n",
       "   'scannedIndex': 0,\n",
       "   'filtered': 0,\n",
       "   'httpRequests': 0,\n",
       "   'executionTime': 0.0009016990661621094,\n",
       "   'peakMemoryUsage': 2000},\n",
       "  'warnings': []},\n",
       " 'error': False,\n",
       " 'code': 201}"
      ]
     },
     "execution_count": 59,
     "metadata": {},
     "output_type": "execute_result"
    }
   ],
   "source": [
    "queryResult=db.AQLQuery( \"RETURN LENGTH(Delitos)\")\n",
    "queryResult.response"
   ]
  },
  {
   "cell_type": "markdown",
   "metadata": {},
   "source": [
    "### Reading Documents"
   ]
  },
  {
   "cell_type": "code",
   "execution_count": 46,
   "metadata": {},
   "outputs": [
    {
     "data": {
      "text/plain": [
       "{'result': [{'_key': '192015',\n",
       "   '_id': 'Delitos/192015',\n",
       "   '_rev': '_ZNTnYWa---',\n",
       "   'datasetid': 'denuncias-victimas-pgj',\n",
       "   'recordid': 'a79dcb8d9eacf5fb9495843d1c4bbde264b57508',\n",
       "   'fields': {'categoria': 'OTROS ROBOS SIN VIOLENCIA',\n",
       "    'tipopersona': 'FISICA',\n",
       "    'calidadjuridica': 'VICTIMA Y DENUNCIANTE',\n",
       "    'edad': '43',\n",
       "    'mes_ao': '2019-01-01',\n",
       "    'geopoint': [19.3805959399, -99.16798408],\n",
       "    'lon': '-99.1679840800051',\n",
       "    'ao': '2019',\n",
       "    'sexo': 'Masculino',\n",
       "    'lat': '19.3805959398694',\n",
       "    'idcarpeta': 8339890,\n",
       "    'mes': 'Enero',\n",
       "    'fechahecho': '24/01/2019 07:15',\n",
       "    'delito': 'ROBO DE ACCESORIOS DE AUTO'},\n",
       "   'geometry': {'type': 'Point', 'coordinates': [-99.16798408, 19.3805959399]},\n",
       "   'record_timestamp': '2019-02-11T16:16:24-06:00'}],\n",
       " 'hasMore': False,\n",
       " 'cached': False,\n",
       " 'extra': {'stats': {'writesExecuted': 0,\n",
       "   'writesIgnored': 0,\n",
       "   'scannedFull': 1,\n",
       "   'scannedIndex': 0,\n",
       "   'filtered': 0,\n",
       "   'httpRequests': 0,\n",
       "   'executionTime': 0.0003657341003417969,\n",
       "   'peakMemoryUsage': 2751},\n",
       "  'warnings': []},\n",
       " 'error': False,\n",
       " 'code': 201}"
      ]
     },
     "execution_count": 46,
     "metadata": {},
     "output_type": "execute_result"
    }
   ],
   "source": [
    "aql=\"\"\"FOR c IN Delitos\n",
    "LIMIT 1\n",
    "RETURN c\"\"\"\n",
    "qdelitos = db.AQLQuery(aql)\n",
    "qdelitos.response"
   ]
  },
  {
   "cell_type": "markdown",
   "metadata": {},
   "source": [
    "### Actulizar un registro"
   ]
  },
  {
   "cell_type": "code",
   "execution_count": 47,
   "metadata": {},
   "outputs": [
    {
     "data": {
      "text/plain": [
       "{'result': [],\n",
       " 'hasMore': False,\n",
       " 'cached': False,\n",
       " 'extra': {'stats': {'writesExecuted': 1,\n",
       "   'writesIgnored': 0,\n",
       "   'scannedFull': 0,\n",
       "   'scannedIndex': 0,\n",
       "   'filtered': 0,\n",
       "   'httpRequests': 0,\n",
       "   'executionTime': 0.0005435943603515625,\n",
       "   'peakMemoryUsage': 34184},\n",
       "  'warnings': []},\n",
       " 'error': False,\n",
       " 'code': 201}"
      ]
     },
     "execution_count": 47,
     "metadata": {},
     "output_type": "execute_result"
    }
   ],
   "source": [
    "aql='''UPDATE \"192015\" WITH {fields:{categoria: \"LALALALALALALAL\"}} IN Delitos'''\n",
    "result=db.AQLQuery(aql)\n",
    "result.response"
   ]
  },
  {
   "cell_type": "code",
   "execution_count": 53,
   "metadata": {},
   "outputs": [
    {
     "name": "stdout",
     "output_type": "stream",
     "text": [
      "<store: {'ao': '2019', 'calidadjuridica': 'VICTIMA Y DENUNCIANTE', 'categoria': 'LALALALALALALAL', 'delito': 'ROBO DE ACCESORIOS DE AUTO', 'edad': '43', 'fechahecho': '24/01/2019 07:15', 'geopoint': [19.3805959399, -99.16798408], 'idcarpeta': 8339890, 'lat': '19.3805959398694', 'lon': '-99.1679840800051', 'mes': 'Enero', 'mes_ao': '2019-01-01', 'sexo': 'Masculino', 'tipopersona': 'FISICA'}>\n",
      "<store: {'type': 'Point', 'coordinates': [-99.16798408, 19.3805959399]}>\n"
     ]
    },
    {
     "data": {
      "text/plain": [
       "ArangoDoc '_id: Delitos/192015, _key: 192015, _rev: _ZNTseR---_': <store: {'datasetid': 'denuncias-victimas-pgj', 'recordid': 'a79dcb8d9eacf5fb9495843d1c4bbde264b57508', 'fields': <store: {'ao': '2019', 'calidadjuridica': 'VICTIMA Y DENUNCIANTE', 'categoria': 'LALALALALALALAL', 'delito': 'ROBO DE ACCESORIOS DE AUTO', 'edad': '43', 'fechahecho': '24/01/2019 07:15', 'geopoint': [19.3805959399, -99.16798408], 'idcarpeta': 8339890, 'lat': '19.3805959398694', 'lon': '-99.1679840800051', 'mes': 'Enero', 'mes_ao': '2019-01-01', 'sexo': 'Masculino', 'tipopersona': 'FISICA'}>, 'geometry': <store: {'type': 'Point', 'coordinates': [-99.16798408, 19.3805959399]}>, 'record_timestamp': '2019-02-11T16:16:24-06:00'}>"
      ]
     },
     "execution_count": 53,
     "metadata": {},
     "output_type": "execute_result"
    }
   ],
   "source": [
    "def report(document):\n",
    "    print(document['fields'] )\n",
    "    print(document['geometry'] )\n",
    "delito=db['Delitos']    \n",
    "documento=delito['192015']\n",
    "report(documento)\n",
    "documento\n",
    "##Vemos que si se hubo un update"
   ]
  },
  {
   "cell_type": "markdown",
   "metadata": {},
   "source": [
    "### Eliminar registro"
   ]
  },
  {
   "cell_type": "code",
   "execution_count": 31,
   "metadata": {},
   "outputs": [
    {
     "data": {
      "text/plain": [
       "{'result': [],\n",
       " 'hasMore': False,\n",
       " 'cached': False,\n",
       " 'extra': {'stats': {'writesExecuted': 1,\n",
       "   'writesIgnored': 0,\n",
       "   'scannedFull': 0,\n",
       "   'scannedIndex': 0,\n",
       "   'filtered': 0,\n",
       "   'httpRequests': 0,\n",
       "   'executionTime': 0.003765583038330078,\n",
       "   'peakMemoryUsage': 17832},\n",
       "  'warnings': []},\n",
       " 'error': False,\n",
       " 'code': 201}"
      ]
     },
     "execution_count": 31,
     "metadata": {},
     "output_type": "execute_result"
    }
   ],
   "source": [
    "aql=\"REMOVE '192015' IN Delitos\" \n",
    "result=db.AQLQuery(aql)\n",
    "result.response"
   ]
  },
  {
   "cell_type": "code",
   "execution_count": null,
   "metadata": {},
   "outputs": [],
   "source": [
    "#se recomiennnda no correr o aplicar mas filters\n",
    "bind = {\"@collection\": \"Delitos\"}\n",
    "aql = \"\"\"\n",
    "FOR x IN @@collection\n",
    "FILTER x.fields.tipopersona == 'FISICA'\n",
    "REMOVE x IN @@collection\n",
    "LET removed = OLD RETURN removed\n",
    "\"\"\"\n",
    "queryResult = db.AQLQuery(aql, bindVars=bind)\n",
    "queryResult.response"
   ]
  },
  {
   "cell_type": "markdown",
   "metadata": {},
   "source": [
    "### Matching documents\n",
    "Para encontrar documentos con cierta condición hay una operación de Filtrado en AQL"
   ]
  },
  {
   "cell_type": "code",
   "execution_count": 54,
   "metadata": {},
   "outputs": [
    {
     "data": {
      "text/plain": [
       "{'result': [{'anio': '2006', 'edad': '22'}],\n",
       " 'hasMore': False,\n",
       " 'cached': False,\n",
       " 'extra': {'stats': {'writesExecuted': 0,\n",
       "   'writesIgnored': 0,\n",
       "   'scannedFull': 67979,\n",
       "   'scannedIndex': 0,\n",
       "   'filtered': 67978,\n",
       "   'httpRequests': 0,\n",
       "   'executionTime': 0.24913454055786133,\n",
       "   'peakMemoryUsage': 988375},\n",
       "  'warnings': []},\n",
       " 'error': False,\n",
       " 'code': 201}"
      ]
     },
     "execution_count": 54,
     "metadata": {},
     "output_type": "execute_result"
    }
   ],
   "source": [
    "bind = {\"@collection\": \"Delitos\"}\n",
    "aql = \"\"\"FOR c IN @@collection\n",
    "    FILTER c.fields.edad == '22'\n",
    "    FILTER c.fields.mes == 'Julio' \n",
    "    FILTER c.fields.delito=='VIOLACION'\n",
    "    LIMIT 3\n",
    "    RETURN { anio: c.fields.ao, edad: c.fields.edad }\"\"\"\n",
    "queryResult = db.AQLQuery(aql, bindVars=bind)\n",
    "queryResult.response"
   ]
  },
  {
   "cell_type": "code",
   "execution_count": 56,
   "metadata": {},
   "outputs": [
    {
     "data": {
      "text/plain": [
       "{'result': ['Abril', 'Abril', 'Abril', 'Abril', 'Abril'],\n",
       " 'hasMore': False,\n",
       " 'cached': False,\n",
       " 'extra': {'stats': {'writesExecuted': 0,\n",
       "   'writesIgnored': 0,\n",
       "   'scannedFull': 67979,\n",
       "   'scannedIndex': 0,\n",
       "   'filtered': 0,\n",
       "   'httpRequests': 0,\n",
       "   'executionTime': 0.18418478965759277,\n",
       "   'peakMemoryUsage': 408601},\n",
       "  'warnings': []},\n",
       " 'error': False,\n",
       " 'code': 201}"
      ]
     },
     "execution_count": 56,
     "metadata": {},
     "output_type": "execute_result"
    }
   ],
   "source": [
    "bind = {\"@collection\": \"Delitos\"}\n",
    "aql=\"\"\"FOR c IN @@collection\n",
    "    SORT c.fields.mes\n",
    "    LIMIT 5\n",
    "    RETURN c.fields.mes\"\"\"\n",
    "queryResult = db.AQLQuery(aql, bindVars=bind)\n",
    "queryResult.response"
   ]
  },
  {
   "cell_type": "code",
   "execution_count": 60,
   "metadata": {},
   "outputs": [],
   "source": [
    "bind = {\"@collection\": \"Delitos\"}\n",
    "aql3=\"\"\"FOR doc IN WITHIN(@@collection,19.324806, -99.181495, 0.5*1000)\n",
    "    RETURN {\n",
    "        delitos: doc.fields.delito,\n",
    "        measanio: doc.fields.mes_ao   \n",
    "        }\"\"\""
   ]
  },
  {
   "cell_type": "code",
   "execution_count": 62,
   "metadata": {},
   "outputs": [
    {
     "data": {
      "text/plain": [
       "{'result': [{'delitos': 'ROBO DE MOTOCICLETA SIN VIOLENCIA',\n",
       "   'measanio': '2019-03-01'},\n",
       "  {'delitos': 'ROBO DE MOTOCICLETA SIN VIOLENCIA', 'measanio': '2019-03-01'},\n",
       "  {'delitos': 'ROBO DE OBJETOS', 'measanio': '2019-03-01'},\n",
       "  {'delitos': 'FALSIFICACION DE TITULOS AL PORTADOR Y DOCUMENTOS DE CREDITO PUBLICO',\n",
       "   'measanio': '01-02-19'},\n",
       "  {'delitos': 'DAÑO EN PROPIEDAD AJENA CULPOSA POR TRÁNSITO VEHICULAR A AUTOMOVIL',\n",
       "   'measanio': '2019-03-01'},\n",
       "  {'delitos': 'ROBO DE VEHICULO DE PEDALES', 'measanio': None},\n",
       "  {'delitos': 'ROBO DE VEHICULO DE PEDALES', 'measanio': '2019-01-01'},\n",
       "  {'delitos': 'ROBO DE OBJETOS DEL INTERIOR DE UN VEHICULO',\n",
       "   'measanio': '01-02-19'},\n",
       "  {'delitos': 'ROBO DE VEHICULO DE SERVICIO PARTICULAR SIN VIOLENCIA',\n",
       "   'measanio': '2019-01-01'},\n",
       "  {'delitos': 'ROBO DE VEHICULO DE PEDALES', 'measanio': '01-02-19'},\n",
       "  {'delitos': 'DENUNCIA DE HECHOS', 'measanio': '2014-10-01'},\n",
       "  {'delitos': 'ROBO DE OBJETOS', 'measanio': '2019-03-01'},\n",
       "  {'delitos': 'ROBO DE VEHICULO DE SERVICIO PARTICULAR SIN VIOLENCIA',\n",
       "   'measanio': '2019-01-01'},\n",
       "  {'delitos': 'ABUSO SEXUAL', 'measanio': '01-02-19'},\n",
       "  {'delitos': 'ROBO DE OBJETOS', 'measanio': '2019-01-01'},\n",
       "  {'delitos': 'ROBO DE OBJETOS', 'measanio': '01-02-19'},\n",
       "  {'delitos': 'ROBO DE VEHICULO DE PEDALES', 'measanio': '2019-03-01'},\n",
       "  {'delitos': 'ROBO DE OBJETOS', 'measanio': '2019-03-01'},\n",
       "  {'delitos': 'ROBO DE VEHICULO DE PEDALES', 'measanio': '2019-03-01'}],\n",
       " 'hasMore': False,\n",
       " 'cached': False,\n",
       " 'extra': {'stats': {'writesExecuted': 0,\n",
       "   'writesIgnored': 0,\n",
       "   'scannedFull': 0,\n",
       "   'scannedIndex': 19,\n",
       "   'filtered': 0,\n",
       "   'httpRequests': 0,\n",
       "   'executionTime': 0.07170343399047852,\n",
       "   'peakMemoryUsage': 44317},\n",
       "  'warnings': []},\n",
       " 'error': False,\n",
       " 'code': 201}"
      ]
     },
     "execution_count": 62,
     "metadata": {},
     "output_type": "execute_result"
    }
   ],
   "source": [
    "#Nota importante antes de correr el query asegurese de haber creado un geo index con el campo\n",
    "# fields.geopoint\n",
    "queryResult = db.AQLQuery(aql3, bindVars=bind)\n",
    "queryResult.response"
   ]
  }
 ],
 "metadata": {
  "kernelspec": {
   "display_name": "Python 3",
   "language": "python",
   "name": "python3"
  },
  "language_info": {
   "codemirror_mode": {
    "name": "ipython",
    "version": 3
   },
   "file_extension": ".py",
   "mimetype": "text/x-python",
   "name": "python",
   "nbconvert_exporter": "python",
   "pygments_lexer": "ipython3",
   "version": "3.7.3"
  }
 },
 "nbformat": 4,
 "nbformat_minor": 2
}
