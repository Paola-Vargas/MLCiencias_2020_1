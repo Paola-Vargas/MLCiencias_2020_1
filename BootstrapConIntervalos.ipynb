{
 "cells": [
  {
   "cell_type": "markdown",
   "metadata": {},
   "source": [
    "### Booststrap\n",
    "Suponga que tiene una muestra de tamaño $n$ de una distribución $F(x:\\theta)$ y sea $F_{n}(x)$ de la distribución empírica de la muestra. Si $\\check{\\theta_{n}}$ es un estimador de $\\theta$, una aplicación del método $bootstrap$ consiste en generar muestras de $F_{n}(x)$ para estimar el error estándar del estimador $\\tilde{\\theta_{n}}$. El algoritmo puede describirse como\n",
    "\n",
    "1. Para $i\\in J_{k}$, generar $\\{x_{1}^{(i)}, \\ldots, x_{n}^{(i)}\\}$ observaciones independientes de $F_{n}(x)$.\n",
    "2. Para $i\\in J_{k}$, calcular $\\tilde{\\theta^{(i)}}=\\tilde{\\theta}(x_{1}^{(i)},\\ldots, x_{n}^{(i)})$.\n",
    "\n",
    "3. Calcular\n",
    "$$\n",
    "S_{k}=\\sqrt{\\frac{1}{k}\\sum_{i=1}^{k}\\left(\\tilde{\\theta^{(i)}}-\\bar{\\tilde{\\theta}}\\right)^{2}},\n",
    "$$\n",
    "donde \n",
    "$$\n",
    "\\bar{\\tilde{\\theta}}=\\frac{1}{k}\\sum_{i=1}^{k}\\tilde{\\theta^{(i)}}.\n",
    "$$\n"
   ]
  },
  {
   "cell_type": "code",
   "execution_count": 1,
   "metadata": {},
   "outputs": [],
   "source": [
    "import numpy as np\n",
    "from random import choices \n",
    "import scipy as sp\n",
    "import scipy.stats as stats\n",
    "import matplotlib.pyplot as plt\n",
    "from matplotlib.collections import LineCollection"
   ]
  },
  {
   "cell_type": "code",
   "execution_count": 2,
   "metadata": {},
   "outputs": [],
   "source": [
    "n=30\n",
    "s=np.random.poisson(3,n)\n",
    "def muestras(m,n,s):\n",
    "    lthetas=[]\n",
    "    for i in range(m):\n",
    "        x_bar=np.mean(choices(s,k=n))\n",
    "        lthetas.append(x_bar)\n",
    "    return lthetas  "
   ]
  },
  {
   "cell_type": "code",
   "execution_count": 3,
   "metadata": {},
   "outputs": [],
   "source": [
    "def se(lthetas):\n",
    "    m=len(lthetas)\n",
    "    suma=sum([(i-np.mean(lthetas))**2 for i in lthetas])\n",
    "    return(sp.sqrt((1/m)*suma))"
   ]
  },
  {
   "cell_type": "code",
   "execution_count": 7,
   "metadata": {},
   "outputs": [
    {
     "name": "stdout",
     "output_type": "stream",
     "text": [
      "el error estandar Bootstrap es  0.3401540762001179 el error estandar verdadero es  0.3501504876259268\n"
     ]
    }
   ],
   "source": [
    "m=1000\n",
    "sample=muestras(m,n,s)\n",
    "seb=se(sample)\n",
    "sev=np.sqrt(np.var(s)/(n-1))\n",
    "print('el error estandar Bootstrap es ', seb, 'el error estandar verdadero es ',sev)"
   ]
  },
  {
   "cell_type": "markdown",
   "metadata": {},
   "source": [
    "Ahora calculemos el estimador máximo verosimil de $\\theta$. Para esto consideremos la función \n",
    "$$\n",
    "f(x_{1}, \\ldots, x_{n}; \\theta)=\\prod_{i=1}^{n}\\frac{\\theta^{x_{i}}e^{-\\theta}}{x_{i}!}=\\frac{\\theta^{\\sum_{i=1}^{n} x_{i}}e^{-\\theta n}}{\\prod_{i=1}^{n}x_{i}!}.\n",
    "$$\n",
    "Luego\n",
    "$$\n",
    "\\log(f(x_{1}, \\ldots, x_{n}); \\theta)=\\left(\\sum_{i=1}^{n} x_{i}\\right)\\log(\\theta)-\\theta n-\\log\\left(\\prod_{i=1}^{n}x_{i}!\\right),\n",
    "$$\n",
    "de este modo\n",
    "$$\n",
    "\\frac{\\partial \\log(f(x_{1}, \\ldots, x_{n}); \\theta)}{\\partial \\theta}=\\frac{\\sum_{i=1}^{n} x_{i}}{\\theta}-n, \n",
    "$$\n",
    "entonces $\\frac{\\partial \\log(f(x_{1}, \\ldots, x_{n})}{\\partial\\theta}=0$ si $\\theta=\\frac{\\sum_{i=1}^{n} x_{i}}{n}$. Consecuentemente el estimador máximo verosímil está dado por $\\theta=\\bar{x}$."
   ]
  },
  {
   "cell_type": "markdown",
   "metadata": {},
   "source": [
    "Luego surge la siguiente cuestión ¿cómo se calcularía un intervalo al $90\\%$ de confianza para $\\theta$? Respondamos pues a esta pregunta.\n",
    "\n",
    "Sabemos que si $x_{1}, \\ldots, x_{n}$ es una muestra $Po(\\lambda)$, entonces el intervalo de confianza está dado por \n",
    "\\begin{equation}\n",
    "P\\left(\\bar{x}-\\sqrt{\\frac{\\bar{x}}{n}}Z_{1-\\frac{\\alpha}{2}}\\leq \\lambda\\leq\\bar{x}-\\sqrt{\\frac{\\bar{x}}{n}}Z_{1-\\frac{\\alpha}{2}}\\right)=1-\\alpha.    \\ \\      \\ \\     Ec(1)\n",
    "\\end{equation}\n",
    "De este modo, con la información que tenemos, en la ec(1) en lugar de usar $\\sqrt{\\frac{\\bar{x}}{n}}$ usaremos el error estándar que obtuvimos con el método bootstrap."
   ]
  },
  {
   "cell_type": "code",
   "execution_count": 9,
   "metadata": {},
   "outputs": [],
   "source": [
    "k=200\n",
    "alpha=0.1\n",
    "mat=np.zeros((k,3))\n",
    "z_a=stats.norm.ppf(1-alpha/2)\n",
    "s=np.random.poisson(3,n)\n",
    "for i in range(k):\n",
    "    sample=muestras(k,n,s)\n",
    "    serror=se(sample)\n",
    "    s0=np.random.poisson(3,n)\n",
    "    mat[i,0]=np.mean(s0)\n",
    "    mat[i,1]=np.mean(s0)-z_a*serror\n",
    "    mat[i,2]=np.mean(s0)+z_a*serror"
   ]
  },
  {
   "cell_type": "code",
   "execution_count": 26,
   "metadata": {},
   "outputs": [],
   "source": [
    "l=[i for i in range(k)]\n",
    "num=k-1"
   ]
  },
  {
   "cell_type": "code",
   "execution_count": 11,
   "metadata": {},
   "outputs": [],
   "source": [
    "lines=[[(i,k),(j,k)] for i,j,k in zip(mat[:,1],mat[:,2],l)]\n",
    "med=[[(3,0),(3,num)]]\n",
    "c=[(0,0,1,1) if (i<=3 and 3<=j) else (1,0,0,1) for i,j in zip(mat[:,1],mat[:,2])]"
   ]
  },
  {
   "cell_type": "code",
   "execution_count": 25,
   "metadata": {},
   "outputs": [
    {
     "data": {
      "image/png": "[encoded data removed]",
      "text/plain": [
       "<Figure size 720x576 with 1 Axes>"
      ]
     },
     "metadata": {},
     "output_type": "display_data"
    }
   ],
   "source": [
    "lc=LineCollection(lines,color=c,linewidths=2)\n",
    "ld=LineCollection(med,color=[0, 1, 0, 1],linewidths=2)\n",
    "fig,ax=plt.subplots(figsize=(10,8))\n",
    "ax.add_collection(lc)\n",
    "ax.add_collection(ld)\n",
    "ax.autoscale()\n",
    "ax.margins(0.05)"
   ]
  }
 ],
 "metadata": {
  "kernelspec": {
   "display_name": "Python 3",
   "language": "python",
   "name": "python3"
  },
  "language_info": {
   "codemirror_mode": {
    "name": "ipython",
    "version": 3
   },
   "file_extension": ".py",
   "mimetype": "text/x-python",
   "name": "python",
   "nbconvert_exporter": "python",
   "pygments_lexer": "ipython3",
   "version": "3.7.3"
  }
 },
 "nbformat": 4,
 "nbformat_minor": 2
}
