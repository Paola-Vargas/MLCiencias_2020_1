{
 "cells": [
  {
   "cell_type": "markdown",
   "metadata": {},
   "source": [
    "#### Tarea 4 Seminario Estadística"
   ]
  },
  {
   "cell_type": "markdown",
   "metadata": {},
   "source": [
    "1. Clasifique los datos de incumplimiento y tatanic usando linearSVM de spark.ML. Reporte el accuracy. Deberá tomar 30% de muestra de evaluación.\n",
    "\n",
    "2. Clasifique los datos de iris e incumplimiento usando las diferentes implementaciones de SVM; SVC y  LinearSVC, pruebe con diferentes kernel, polinomial grado 3, linear, rbf=$\\gamma||x-x'||^2$ el parametro $\\gamma=0.9$, la manera en la que se especifica esto es SVC(kernel='rbf',gamma=0.9) . Grafique dos covariables que usted considere.  Esto lo deberá reportar en Scikit Learn, la muestra de entrenamiento será de 70%\n",
    "\n",
    "3. Usando los datos de coris clasifique las observaciones mediante arboles, compare el accuracy respecto de Bagging usando como clasificador DecisionTreeClassifier. Obtenga el error por validación cruzada.\n"
   ]
  }
 ],
 "metadata": {
  "kernelspec": {
   "display_name": "Python 3",
   "language": "python",
   "name": "python3"
  },
  "language_info": {
   "codemirror_mode": {
    "name": "ipython",
    "version": 3
   },
   "file_extension": ".py",
   "mimetype": "text/x-python",
   "name": "python",
   "nbconvert_exporter": "python",
   "pygments_lexer": "ipython3",
   "version": "3.7.3"
  }
 },
 "nbformat": 4,
 "nbformat_minor": 2
}
