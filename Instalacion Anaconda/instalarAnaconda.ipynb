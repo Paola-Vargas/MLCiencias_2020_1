{
 "cells": [
  {
   "cell_type": "code",
   "execution_count": 6,
   "metadata": {},
   "outputs": [],
   "source": [
    "from IPython.core.display import display, HTML"
   ]
  },
  {
   "cell_type": "markdown",
   "metadata": {},
   "source": [
    "$$\n",
    "\\large{C1\\varepsilon(\\eta)C1\\alpha\\int_x}\n",
    "$$"
   ]
  },
  {
   "cell_type": "markdown",
   "metadata": {},
   "source": [
    "## Instalación de Anaconda "
   ]
  },
  {
   "cell_type": "markdown",
   "metadata": {},
   "source": [
    "## Obtener Anaconda \n",
    "\n",
    "1. Primero vaya al siguiente sitio \n",
    " <a href='https://www.anaconda.com/download/' target='_blank'>Descarga Anaconda</a>\n",
    "2. Presionar el icono de su sistema operativo. \n",
    "3. Descargar la versión 3.7, de 64 o 32 bit dependiendo de la arquitectura de su computadora"
   ]
  },
  {
   "cell_type": "markdown",
   "metadata": {},
   "source": [
    "### Instalación en Mac y Linux\n",
    "4. En MacOs, jalar el iconito a apalicaciones como de costumbre.\n",
    "5. En linux se descargara un .sh por lo que tendra que situarse en la carpeta y darle permisos de ejecución con\n",
    "$\\texttt{chmod u+x  nombredelInstalador.sh}$ y luego\n",
    "$\\texttt{./nombredelInstalador.sh}$\n",
    "6. Confirme el lugar donde se instalará\n",
    "6. Si ya se instaló en UNIX/LINUX tendrá que abrir la terminal y situarse en el directorio de su prefencia y poner \n",
    "$jupyter$ $notebook$ y enter "
   ]
  },
  {
   "cell_type": "markdown",
   "metadata": {},
   "source": [
    "### Instalación en Windows\n",
    "4. Abrir el instalador y siguiente-siguiente-siguiente. \n",
    "5. Llegará a un punto donde le pregunta si desea agregar al path, favor de marcar la casilla ya que de esta manera podrá acceder a Jupyter Notebook desde CMD o PowerShell.\n",
    "<img src=\"addpath.png\">"
   ]
  },
  {
   "cell_type": "markdown",
   "metadata": {},
   "source": [
    "Si todo sale bien deberá observar lo siguiente ya sea que accede por linea de comandos, tecleando jupyter notebook o acceso directo:"
   ]
  },
  {
   "cell_type": "markdown",
   "metadata": {},
   "source": [
    "<img src=\"jupyter.png\">"
   ]
  },
  {
   "cell_type": "markdown",
   "metadata": {},
   "source": [
    "PD. Puede usar R,Julia,Scala etc, en el mismo IDE."
   ]
  }
 ],
 "metadata": {
  "kernelspec": {
   "display_name": "Python 3",
   "language": "python",
   "name": "python3"
  },
  "language_info": {
   "codemirror_mode": {
    "name": "ipython",
    "version": 3
   },
   "file_extension": ".py",
   "mimetype": "text/x-python",
   "name": "python",
   "nbconvert_exporter": "python",
   "pygments_lexer": "ipython3",
   "version": "3.7.3"
  }
 },
 "nbformat": 4,
 "nbformat_minor": 2
}
