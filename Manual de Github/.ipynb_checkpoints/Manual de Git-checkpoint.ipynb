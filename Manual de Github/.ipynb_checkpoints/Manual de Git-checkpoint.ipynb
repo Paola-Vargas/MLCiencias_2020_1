{
 "cells": [
  {
   "cell_type": "markdown",
   "metadata": {},
   "source": [
    "## Manual breve de Git"
   ]
  },
  {
   "cell_type": "markdown",
   "metadata": {},
   "source": [
    "El control de versiones es un sistema que registra los cambios realizados un archivo o un conjunto de archivos a lo largo del tiempo. Te permite revertir un proyecto entero, comparar cambios, ver quien modifico por última vez un proyecto y que modifico, entre otras funcionalidades más.\n",
    "\n",
    "Git es un sistema de control de versiones, libre y open source que tiene  muchas ventajas frente a otros VCS(Version Control System) como subversion, por la forma en que modela sus datos.\n",
    "\n",
    "Github por su parte es una plataforma de desarrollo colaborativo de sofware, adquirido por Microsoft. La plataforma es de paga pero si los repositorios son publicos el servicio es gratuito. Crear una cuenta en https://github.com/join"
   ]
  },
  {
   "cell_type": "markdown",
   "metadata": {},
   "source": [
    "### Instalacion y configuración de Git en LINUX/UNIX"
   ]
  },
  {
   "cell_type": "markdown",
   "metadata": {},
   "source": [
    "Primero hay que configurar git e indicarle las credenciales que utilizaremos para generar y modificar los repositorios de la que se encuentran en la página principal."
   ]
  },
  {
   "cell_type": "markdown",
   "metadata": {},
   "source": [
    " ```\n",
    "$ git config --global user.name \"Nombre_de_usuario\"\n",
    " \n",
    "$ git config --global user.email \"email@dominio.com\"\n",
    " ```\n"
   ]
  },
  {
   "cell_type": "markdown",
   "metadata": {},
   "source": [
    "### Creación del repositorio \n",
    "Para obtener un copia del repositorio en nuestro local hay que clonarlo, poniendo en la terminal la siguiente instrucción(valida en UNIX Y LINUX)"
   ]
  },
  {
   "cell_type": "markdown",
   "metadata": {},
   "source": [
    "```\n",
    "$ git clone https://github.com/jimmyhm/MLCiencias_2020_1\n",
    "```"
   ]
  },
  {
   "cell_type": "markdown",
   "metadata": {},
   "source": [
    "Para actualizar su repositorio, deberá hacer un pull sobre su directorio:\n",
    "\n",
    "```\n",
    "$ git pull \n",
    "```    "
   ]
  },
  {
   "cell_type": "markdown",
   "metadata": {},
   "source": [
    "### Clonar el repositorio en Windows \n",
    "Para el caso de Windows hay que bajar una cliente Git, se recomienda usar Github Desktop que cuenta con una interfaz gráfica amigable. Y que puede descargar [aquí](https://desktop.github.com). La instalación es tan sencilla como hacer un clik en siguiente,..., siguiente."
   ]
  },
  {
   "cell_type": "markdown",
   "metadata": {},
   "source": [
    "Abrir en windows Github Desktop e ir \n",
    "\n",
    "1. file $\\rightarrow$ clone repository\n",
    "2. URL $\\rightarrow$ poner en Repository https://github.com/jimmyhm/MLCiencias_2020_1\n",
    "3. Click en clonar\n",
    "4. Pull origin para recibir las actualizaciones del repositorio.\n"
   ]
  }
 ],
 "metadata": {
  "kernelspec": {
   "display_name": "Python 3",
   "language": "python",
   "name": "python3"
  },
  "language_info": {
   "codemirror_mode": {
    "name": "ipython",
    "version": 3
   },
   "file_extension": ".py",
   "mimetype": "text/x-python",
   "name": "python",
   "nbconvert_exporter": "python",
   "pygments_lexer": "ipython3",
   "version": "3.7.3"
  }
 },
 "nbformat": 4,
 "nbformat_minor": 2
}
