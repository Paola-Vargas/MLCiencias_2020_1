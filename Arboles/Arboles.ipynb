{
 "cells": [
  {
   "cell_type": "code",
   "execution_count": 22,
   "metadata": {},
   "outputs": [],
   "source": [
    "import os \n",
    "#agregar al path el lugar de la instalacion de graphviz (dot.exe)\n",
    "#os.environ[\"PATH\"] += os.pathsep + r'C:\\Users\\jimmy\\Anaconda3\\Library\\bin\\graphviz'"
   ]
  },
  {
   "cell_type": "code",
   "execution_count": 23,
   "metadata": {},
   "outputs": [],
   "source": [
    "import urllib.request as url\n",
    "import pandas as pd\n",
    "from sklearn import tree\n",
    "import graphviz as gv\n",
    "import numpy as np\n",
    "from sklearn.metrics import accuracy_score\n",
    "from sklearn.model_selection import train_test_split"
   ]
  },
  {
   "cell_type": "code",
   "execution_count": 4,
   "metadata": {},
   "outputs": [],
   "source": [
    "#obtener datos, hay que limpiarlo\n",
    "target_url = (\"http://www.stat.cmu.edu/~larry/all-of-statistics/=data/coris.dat\")\n",
    "data = url.urlopen(target_url)\n",
    "html = data.read()\n",
    "html\n",
    "with open('coris.csv', 'wb') as f:\n",
    "     f.write(html)"
   ]
  },
  {
   "cell_type": "markdown",
   "metadata": {},
   "source": [
    "#### Descripción de los datos\n",
    "The Coronary Risk-Factor Study (CORIS) data involve 462 males between the ages of 15 and 64 from three rural areas in South Africa, (Rousseauw et al. (1983)). The outcome Y is the presence (Y = 1) or absence (Y = 0) of coronary heart disease. There are 9 covariates: systolic blood pressure, cumulative tobacco (kg), ldl (low density lipoprotein cholesterol), adiposity, famhist (family history of heart disease), typea (type-A behavior), obesity, alcohol (current alcohol consumption), and age."
   ]
  },
  {
   "cell_type": "code",
   "execution_count": 6,
   "metadata": {},
   "outputs": [
    {
     "data": {
      "text/html": [
       "<div>\n",
       "<style scoped>\n",
       "    .dataframe tbody tr th:only-of-type {\n",
       "        vertical-align: middle;\n",
       "    }\n",
       "\n",
       "    .dataframe tbody tr th {\n",
       "        vertical-align: top;\n",
       "    }\n",
       "\n",
       "    .dataframe thead th {\n",
       "        text-align: right;\n",
       "    }\n",
       "</style>\n",
       "<table border=\"1\" class=\"dataframe\">\n",
       "  <thead>\n",
       "    <tr style=\"text-align: right;\">\n",
       "      <th></th>\n",
       "      <th>row.names</th>\n",
       "      <th>sbp</th>\n",
       "      <th>tobacco</th>\n",
       "      <th>ldl</th>\n",
       "      <th>adiposity</th>\n",
       "      <th>famhist</th>\n",
       "      <th>typea</th>\n",
       "      <th>obesity</th>\n",
       "      <th>alcohol</th>\n",
       "      <th>age</th>\n",
       "      <th>chd</th>\n",
       "    </tr>\n",
       "  </thead>\n",
       "  <tbody>\n",
       "    <tr>\n",
       "      <th>0</th>\n",
       "      <td>1</td>\n",
       "      <td>160</td>\n",
       "      <td>12.00</td>\n",
       "      <td>5.73</td>\n",
       "      <td>23.11</td>\n",
       "      <td>1</td>\n",
       "      <td>49</td>\n",
       "      <td>25.30</td>\n",
       "      <td>97.20</td>\n",
       "      <td>52</td>\n",
       "      <td>1</td>\n",
       "    </tr>\n",
       "    <tr>\n",
       "      <th>1</th>\n",
       "      <td>2</td>\n",
       "      <td>144</td>\n",
       "      <td>0.01</td>\n",
       "      <td>4.41</td>\n",
       "      <td>28.61</td>\n",
       "      <td>0</td>\n",
       "      <td>55</td>\n",
       "      <td>28.87</td>\n",
       "      <td>2.06</td>\n",
       "      <td>63</td>\n",
       "      <td>1</td>\n",
       "    </tr>\n",
       "  </tbody>\n",
       "</table>\n",
       "</div>"
      ],
      "text/plain": [
       "   row.names  sbp  tobacco   ldl  adiposity  famhist  typea  obesity  alcohol  \\\n",
       "0          1  160    12.00  5.73      23.11        1     49    25.30    97.20   \n",
       "1          2  144     0.01  4.41      28.61        0     55    28.87     2.06   \n",
       "\n",
       "   age  chd  \n",
       "0   52    1  \n",
       "1   63    1  "
      ]
     },
     "execution_count": 6,
     "metadata": {},
     "output_type": "execute_result"
    }
   ],
   "source": [
    "data=pd.read_csv('coris.csv',sep=',',header=0)\n",
    "data.iloc[:2,:]"
   ]
  },
  {
   "cell_type": "code",
   "execution_count": 7,
   "metadata": {},
   "outputs": [],
   "source": [
    "#### Arbol con dos atributos\n",
    "df1=data['age']\n",
    "df2=data['sbp']\n",
    "data2 = pd.concat([df1, df2], axis=1, join_axes=[df1.index])"
   ]
  },
  {
   "cell_type": "code",
   "execution_count": 9,
   "metadata": {},
   "outputs": [
    {
     "data": {
      "text/html": [
       "<div>\n",
       "<style scoped>\n",
       "    .dataframe tbody tr th:only-of-type {\n",
       "        vertical-align: middle;\n",
       "    }\n",
       "\n",
       "    .dataframe tbody tr th {\n",
       "        vertical-align: top;\n",
       "    }\n",
       "\n",
       "    .dataframe thead th {\n",
       "        text-align: right;\n",
       "    }\n",
       "</style>\n",
       "<table border=\"1\" class=\"dataframe\">\n",
       "  <thead>\n",
       "    <tr style=\"text-align: right;\">\n",
       "      <th></th>\n",
       "      <th>age</th>\n",
       "      <th>sbp</th>\n",
       "    </tr>\n",
       "  </thead>\n",
       "  <tbody>\n",
       "    <tr>\n",
       "      <th>0</th>\n",
       "      <td>52</td>\n",
       "      <td>160</td>\n",
       "    </tr>\n",
       "    <tr>\n",
       "      <th>1</th>\n",
       "      <td>63</td>\n",
       "      <td>144</td>\n",
       "    </tr>\n",
       "  </tbody>\n",
       "</table>\n",
       "</div>"
      ],
      "text/plain": [
       "   age  sbp\n",
       "0   52  160\n",
       "1   63  144"
      ]
     },
     "execution_count": 9,
     "metadata": {},
     "output_type": "execute_result"
    }
   ],
   "source": [
    "data2.head(2)"
   ]
  },
  {
   "cell_type": "code",
   "execution_count": 11,
   "metadata": {},
   "outputs": [
    {
     "name": "stdout",
     "output_type": "stream",
     "text": [
      "Personas con enferdad de las coronarias\n",
      "0    302\n",
      "1    160\n",
      "Name: chd, dtype: int64\n",
      "Personas con edad menor de 50 años\n",
      "290\n"
     ]
    }
   ],
   "source": [
    "print('Personas con enferdad de las coronarias')\n",
    "print(pd.value_counts(data['chd']))\n",
    "print('Personas con edad menor de 50 años')\n",
    "print(sum([1 for i in data['age'] if i<=50]))"
   ]
  },
  {
   "cell_type": "markdown",
   "metadata": {},
   "source": [
    "### Arboles \n",
    "A grandes rasgos los árboles de clasificación son métodos que particionan el espacio de covariables $\\mathcal{X}$ en pienzas disjuntas y entonces clasificamos las observaciones de acuerdo a la partición a la que pertencen.\n",
    "\n",
    "Supongamos que se tinen dos categorias  $y\\in \\mathcal{Y}=\\{0,1\\}$. Y tenemos solamente una covariable $X$. Escogemos un punto t que divide a la recta a la recta real en dos conjunto $A_1=(-\\infty,t]$, $A_2=(t,\\infty)$. Sea $\\hat{p}_s(j)$ la proporción de observaciones en $A_s$, tal que $Y_i=j$. \n",
    "$$\n",
    "\\hat{p}_s(j)=\\dfrac{\\sum_{i=1}^n I(Y_i=j,X_i\\in A_s)}{\\sum_{i=1}^n I(X_i\\in A_s)}\n",
    "$$\n",
    "para $s=1,2$ y $j=0,1$. La impureza del split se define como, \n",
    "$$\n",
    "I(t)=\\sum_{s=1}^2\\gamma_s\n",
    "$$\n",
    "donde $\\gamma_s=1-\\sum_{j=0}^1 \\hat{p}_s(j)^2$\n",
    "Esta es una medida de la impureza y se le conoce como indice de $\\textbf{Gini}$\n",
    "\n",
    "Ventajas\n",
    "\n",
    "* Fácil de interpretar.\n",
    "* No paramétrico\n",
    "* A los bancos les encanta en credit scoring \n",
    "\n",
    "Trataré de no hablar mal de los árboles como de las redes neuronales, pero...\n",
    "\n",
    "Deventajas \n",
    "\n",
    "* Sobreajuste\n",
    "* Pérdida de información al categorizar variables continuas\n",
    "* Precisión: si pueden usar mejor SVM, usenlos! tienen tasas de error más bajas hasta 30 %  \n",
    "* Inestabilidad: un pequeño cambio en los datos puede modificar ampliamente la estructura del árbol\n",
    "* Aguas con la heuristica "
   ]
  },
  {
   "cell_type": "markdown",
   "metadata": {},
   "source": [
    "Parametros\n",
    "1. $\\textit{max_leaf_nodes}$ es el maximo número de nodos hojas (nodos sin hijos) para reducción relativa de la impureza\n",
    "2. $\\textit{max_depth}$ profundidad maxima.\n",
    "3. $\\textit{criterion}$ criterio para la división de los datos, Gini (impureza)\n",
    "El indice de Gini es un valor entre 0 y 1"
   ]
  },
  {
   "cell_type": "code",
   "execution_count": 38,
   "metadata": {},
   "outputs": [
    {
     "name": "stdout",
     "output_type": "stream",
     "text": [
      "Personas con enferdad de las coronarias\n",
      "0    212\n",
      "1    111\n",
      "Name: chd, dtype: int64\n",
      "Personas con edad menor de 50 años\n",
      "194\n"
     ]
    }
   ],
   "source": [
    "print('Personas con enferdad de las coronarias')\n",
    "print(pd.value_counts(y_train))\n",
    "print('Personas con edad menor de 50 años')\n",
    "print(sum([1 for i in X_train['age'] if i<50]))"
   ]
  },
  {
   "cell_type": "code",
   "execution_count": 10,
   "metadata": {},
   "outputs": [
    {
     "data": {
      "text/plain": [
       "139"
      ]
     },
     "execution_count": 10,
     "metadata": {},
     "output_type": "execute_result"
    }
   ],
   "source": [
    "X_train, X_test, y_train, y_test = train_test_split(\n",
    "    data2, data['chd'], test_size=0.30, random_state=42)\n",
    "len(y_test)"
   ]
  },
  {
   "cell_type": "code",
   "execution_count": 32,
   "metadata": {},
   "outputs": [],
   "source": [
    "tr=tree.DecisionTreeClassifier(criterion=\"gini\",max_depth=3,max_leaf_nodes=None)\n",
    "trf=tr.fit(X_train,y_train)"
   ]
  },
  {
   "cell_type": "code",
   "execution_count": 37,
   "metadata": {},
   "outputs": [
    {
     "data": {
      "image/svg+xml": [
       "<?xml version=\"1.0\" encoding=\"UTF-8\" standalone=\"no\"?>\n",
       "<!DOCTYPE svg PUBLIC \"-//W3C//DTD SVG 1.1//EN\"\n",
       " \"http://www.w3.org/Graphics/SVG/1.1/DTD/svg11.dtd\">\n",
       "<!-- Generated by graphviz version 2.30.1 (20180420.1509)\n",
       " -->\n",
       "<!-- Title: Tree Pages: 1 -->\n",
       "<svg width=\"1136pt\" height=\"422pt\"\n",
       " viewBox=\"0.00 0.00 1136.00 422.00\" xmlns=\"http://www.w3.org/2000/svg\" xmlns:xlink=\"http://www.w3.org/1999/xlink\">\n",
       "<g id=\"graph0\" class=\"graph\" transform=\"scale(1 1) rotate(0) translate(4 418)\">\n",
       "<title>Tree</title>\n",
       "<polygon fill=\"white\" stroke=\"white\" points=\"-4,5 -4,-418 1133,-418 1133,5 -4,5\"/>\n",
       "<!-- 0 -->\n",
       "<g id=\"node1\" class=\"node\"><title>0</title>\n",
       "<path fill=\"#f3c3a1\" stroke=\"black\" d=\"M622.25,-413.5C622.25,-413.5 495.75,-413.5 495.75,-413.5 489.75,-413.5 483.75,-407.5 483.75,-401.5 483.75,-401.5 483.75,-346.5 483.75,-346.5 483.75,-340.5 489.75,-334.5 495.75,-334.5 495.75,-334.5 622.25,-334.5 622.25,-334.5 628.25,-334.5 634.25,-340.5 634.25,-346.5 634.25,-346.5 634.25,-401.5 634.25,-401.5 634.25,-407.5 628.25,-413.5 622.25,-413.5\"/>\n",
       "<text text-anchor=\"start\" x=\"514.5\" y=\"-399.3\" font-family=\"Helvetica,sans-Serif\" font-size=\"14.00\">edad ≤ 49.5</text>\n",
       "<text text-anchor=\"start\" x=\"515\" y=\"-385.3\" font-family=\"Helvetica,sans-Serif\" font-size=\"14.00\">gini = 0.451</text>\n",
       "<text text-anchor=\"start\" x=\"504.5\" y=\"-371.3\" font-family=\"Helvetica,sans-Serif\" font-size=\"14.00\">samples = 323</text>\n",
       "<text text-anchor=\"start\" x=\"492\" y=\"-357.3\" font-family=\"Helvetica,sans-Serif\" font-size=\"14.00\">value = [212, 111]</text>\n",
       "<text text-anchor=\"start\" x=\"521.5\" y=\"-343.3\" font-family=\"Helvetica,sans-Serif\" font-size=\"14.00\">class = no</text>\n",
       "</g>\n",
       "<!-- 1 -->\n",
       "<g id=\"node2\" class=\"node\"><title>1</title>\n",
       "<path fill=\"#eca36e\" stroke=\"black\" d=\"M507,-297.5C507,-297.5 389,-297.5 389,-297.5 383,-297.5 377,-291.5 377,-285.5 377,-285.5 377,-230.5 377,-230.5 377,-224.5 383,-218.5 389,-218.5 389,-218.5 507,-218.5 507,-218.5 513,-218.5 519,-224.5 519,-230.5 519,-230.5 519,-285.5 519,-285.5 519,-291.5 513,-297.5 507,-297.5\"/>\n",
       "<text text-anchor=\"start\" x=\"403.5\" y=\"-283.3\" font-family=\"Helvetica,sans-Serif\" font-size=\"14.00\">edad ≤ 30.5</text>\n",
       "<text text-anchor=\"start\" x=\"404\" y=\"-269.3\" font-family=\"Helvetica,sans-Serif\" font-size=\"14.00\">gini = 0.333</text>\n",
       "<text text-anchor=\"start\" x=\"393.5\" y=\"-255.3\" font-family=\"Helvetica,sans-Serif\" font-size=\"14.00\">samples = 194</text>\n",
       "<text text-anchor=\"start\" x=\"385.5\" y=\"-241.3\" font-family=\"Helvetica,sans-Serif\" font-size=\"14.00\">value = [153, 41]</text>\n",
       "<text text-anchor=\"start\" x=\"410.5\" y=\"-227.3\" font-family=\"Helvetica,sans-Serif\" font-size=\"14.00\">class = no</text>\n",
       "</g>\n",
       "<!-- 0&#45;&gt;1 -->\n",
       "<g id=\"edge1\" class=\"edge\"><title>0&#45;&gt;1</title>\n",
       "<path fill=\"none\" stroke=\"black\" d=\"M521.42,-334.405C512.199,-324.934 502.237,-314.703 492.716,-304.925\"/>\n",
       "<polygon fill=\"black\" stroke=\"black\" points=\"495.025,-302.279 485.541,-297.555 490.009,-307.162 495.025,-302.279\"/>\n",
       "<text text-anchor=\"middle\" x=\"485.208\" y=\"-318.853\" font-family=\"Helvetica,sans-Serif\" font-size=\"14.00\">True</text>\n",
       "</g>\n",
       "<!-- 8 -->\n",
       "<g id=\"node9\" class=\"node\"><title>8</title>\n",
       "<path fill=\"#e0f0fb\" stroke=\"black\" d=\"M724.25,-297.5C724.25,-297.5 615.75,-297.5 615.75,-297.5 609.75,-297.5 603.75,-291.5 603.75,-285.5 603.75,-285.5 603.75,-230.5 603.75,-230.5 603.75,-224.5 609.75,-218.5 615.75,-218.5 615.75,-218.5 724.25,-218.5 724.25,-218.5 730.25,-218.5 736.25,-224.5 736.25,-230.5 736.25,-230.5 736.25,-285.5 736.25,-285.5 736.25,-291.5 730.25,-297.5 724.25,-297.5\"/>\n",
       "<text text-anchor=\"start\" x=\"612.5\" y=\"-283.3\" font-family=\"Helvetica,sans-Serif\" font-size=\"14.00\">presion ≤ 167.0</text>\n",
       "<text text-anchor=\"start\" x=\"626\" y=\"-269.3\" font-family=\"Helvetica,sans-Serif\" font-size=\"14.00\">gini = 0.496</text>\n",
       "<text text-anchor=\"start\" x=\"615.5\" y=\"-255.3\" font-family=\"Helvetica,sans-Serif\" font-size=\"14.00\">samples = 129</text>\n",
       "<text text-anchor=\"start\" x=\"612\" y=\"-241.3\" font-family=\"Helvetica,sans-Serif\" font-size=\"14.00\">value = [59, 70]</text>\n",
       "<text text-anchor=\"start\" x=\"636\" y=\"-227.3\" font-family=\"Helvetica,sans-Serif\" font-size=\"14.00\">class = si</text>\n",
       "</g>\n",
       "<!-- 0&#45;&gt;8 -->\n",
       "<g id=\"edge8\" class=\"edge\"><title>0&#45;&gt;8</title>\n",
       "<path fill=\"none\" stroke=\"black\" d=\"M596.58,-334.405C605.801,-324.934 615.763,-314.703 625.284,-304.925\"/>\n",
       "<polygon fill=\"black\" stroke=\"black\" points=\"627.991,-307.162 632.459,-297.555 622.975,-302.279 627.991,-307.162\"/>\n",
       "<text text-anchor=\"middle\" x=\"632.792\" y=\"-318.853\" font-family=\"Helvetica,sans-Serif\" font-size=\"14.00\">False</text>\n",
       "</g>\n",
       "<!-- 2 -->\n",
       "<g id=\"node3\" class=\"node\"><title>2</title>\n",
       "<path fill=\"#e88e4d\" stroke=\"black\" d=\"M249,-181.5C249,-181.5 141,-181.5 141,-181.5 135,-181.5 129,-175.5 129,-169.5 129,-169.5 129,-114.5 129,-114.5 129,-108.5 135,-102.5 141,-102.5 141,-102.5 249,-102.5 249,-102.5 255,-102.5 261,-108.5 261,-114.5 261,-114.5 261,-169.5 261,-169.5 261,-175.5 255,-181.5 249,-181.5\"/>\n",
       "<text text-anchor=\"start\" x=\"137.5\" y=\"-167.3\" font-family=\"Helvetica,sans-Serif\" font-size=\"14.00\">presion ≤ 109.0</text>\n",
       "<text text-anchor=\"start\" x=\"151\" y=\"-153.3\" font-family=\"Helvetica,sans-Serif\" font-size=\"14.00\">gini = 0.165</text>\n",
       "<text text-anchor=\"start\" x=\"145\" y=\"-139.3\" font-family=\"Helvetica,sans-Serif\" font-size=\"14.00\">samples = 77</text>\n",
       "<text text-anchor=\"start\" x=\"141.5\" y=\"-125.3\" font-family=\"Helvetica,sans-Serif\" font-size=\"14.00\">value = [70, 7]</text>\n",
       "<text text-anchor=\"start\" x=\"157.5\" y=\"-111.3\" font-family=\"Helvetica,sans-Serif\" font-size=\"14.00\">class = no</text>\n",
       "</g>\n",
       "<!-- 1&#45;&gt;2 -->\n",
       "<g id=\"edge2\" class=\"edge\"><title>1&#45;&gt;2</title>\n",
       "<path fill=\"none\" stroke=\"black\" d=\"M376.852,-224.941C343.721,-210.012 304.279,-192.24 270.61,-177.069\"/>\n",
       "<polygon fill=\"black\" stroke=\"black\" points=\"271.832,-173.781 261.277,-172.864 268.956,-180.163 271.832,-173.781\"/>\n",
       "</g>\n",
       "<!-- 5 -->\n",
       "<g id=\"node6\" class=\"node\"><title>5</title>\n",
       "<path fill=\"#f0b58a\" stroke=\"black\" d=\"M502.25,-181.5C502.25,-181.5 393.75,-181.5 393.75,-181.5 387.75,-181.5 381.75,-175.5 381.75,-169.5 381.75,-169.5 381.75,-114.5 381.75,-114.5 381.75,-108.5 387.75,-102.5 393.75,-102.5 393.75,-102.5 502.25,-102.5 502.25,-102.5 508.25,-102.5 514.25,-108.5 514.25,-114.5 514.25,-114.5 514.25,-169.5 514.25,-169.5 514.25,-175.5 508.25,-181.5 502.25,-181.5\"/>\n",
       "<text text-anchor=\"start\" x=\"390.5\" y=\"-167.3\" font-family=\"Helvetica,sans-Serif\" font-size=\"14.00\">presion ≤ 129.5</text>\n",
       "<text text-anchor=\"start\" x=\"404\" y=\"-153.3\" font-family=\"Helvetica,sans-Serif\" font-size=\"14.00\">gini = 0.412</text>\n",
       "<text text-anchor=\"start\" x=\"393.5\" y=\"-139.3\" font-family=\"Helvetica,sans-Serif\" font-size=\"14.00\">samples = 117</text>\n",
       "<text text-anchor=\"start\" x=\"390\" y=\"-125.3\" font-family=\"Helvetica,sans-Serif\" font-size=\"14.00\">value = [83, 34]</text>\n",
       "<text text-anchor=\"start\" x=\"410.5\" y=\"-111.3\" font-family=\"Helvetica,sans-Serif\" font-size=\"14.00\">class = no</text>\n",
       "</g>\n",
       "<!-- 1&#45;&gt;5 -->\n",
       "<g id=\"edge5\" class=\"edge\"><title>1&#45;&gt;5</title>\n",
       "<path fill=\"none\" stroke=\"black\" d=\"M448,-218.405C448,-209.862 448,-200.702 448,-191.813\"/>\n",
       "<polygon fill=\"black\" stroke=\"black\" points=\"451.5,-191.555 448,-181.555 444.5,-191.555 451.5,-191.555\"/>\n",
       "</g>\n",
       "<!-- 3 -->\n",
       "<g id=\"node4\" class=\"node\"><title>3</title>\n",
       "<path fill=\"#9ccef2\" stroke=\"black\" d=\"M102.25,-65.5C102.25,-65.5 11.75,-65.5 11.75,-65.5 5.75,-65.5 -0.25,-59.5 -0.25,-53.5 -0.25,-53.5 -0.25,-12.5 -0.25,-12.5 -0.25,-6.5 5.75,-0.5 11.75,-0.5 11.75,-0.5 102.25,-0.5 102.25,-0.5 108.25,-0.5 114.25,-6.5 114.25,-12.5 114.25,-12.5 114.25,-53.5 114.25,-53.5 114.25,-59.5 108.25,-65.5 102.25,-65.5\"/>\n",
       "<text text-anchor=\"start\" x=\"13\" y=\"-51.3\" font-family=\"Helvetica,sans-Serif\" font-size=\"14.00\">gini = 0.444</text>\n",
       "<text text-anchor=\"start\" x=\"11.5\" y=\"-37.3\" font-family=\"Helvetica,sans-Serif\" font-size=\"14.00\">samples = 3</text>\n",
       "<text text-anchor=\"start\" x=\"8\" y=\"-23.3\" font-family=\"Helvetica,sans-Serif\" font-size=\"14.00\">value = [1, 2]</text>\n",
       "<text text-anchor=\"start\" x=\"23\" y=\"-9.3\" font-family=\"Helvetica,sans-Serif\" font-size=\"14.00\">class = si</text>\n",
       "</g>\n",
       "<!-- 2&#45;&gt;3 -->\n",
       "<g id=\"edge3\" class=\"edge\"><title>2&#45;&gt;3</title>\n",
       "<path fill=\"none\" stroke=\"black\" d=\"M145.179,-102.371C132.386,-92.4514 118.637,-81.7914 105.892,-71.9091\"/>\n",
       "<polygon fill=\"black\" stroke=\"black\" points=\"107.729,-68.9044 97.6814,-65.5428 103.44,-74.4364 107.729,-68.9044\"/>\n",
       "</g>\n",
       "<!-- 4 -->\n",
       "<g id=\"node5\" class=\"node\"><title>4</title>\n",
       "<path fill=\"#e78a47\" stroke=\"black\" d=\"M245,-65.5C245,-65.5 145,-65.5 145,-65.5 139,-65.5 133,-59.5 133,-53.5 133,-53.5 133,-12.5 133,-12.5 133,-6.5 139,-0.5 145,-0.5 145,-0.5 245,-0.5 245,-0.5 251,-0.5 257,-6.5 257,-12.5 257,-12.5 257,-53.5 257,-53.5 257,-59.5 251,-65.5 245,-65.5\"/>\n",
       "<text text-anchor=\"start\" x=\"151\" y=\"-51.3\" font-family=\"Helvetica,sans-Serif\" font-size=\"14.00\">gini = 0.126</text>\n",
       "<text text-anchor=\"start\" x=\"145\" y=\"-37.3\" font-family=\"Helvetica,sans-Serif\" font-size=\"14.00\">samples = 74</text>\n",
       "<text text-anchor=\"start\" x=\"141.5\" y=\"-23.3\" font-family=\"Helvetica,sans-Serif\" font-size=\"14.00\">value = [69, 5]</text>\n",
       "<text text-anchor=\"start\" x=\"157.5\" y=\"-9.3\" font-family=\"Helvetica,sans-Serif\" font-size=\"14.00\">class = no</text>\n",
       "</g>\n",
       "<!-- 2&#45;&gt;4 -->\n",
       "<g id=\"edge4\" class=\"edge\"><title>2&#45;&gt;4</title>\n",
       "<path fill=\"none\" stroke=\"black\" d=\"M195,-102.371C195,-93.6795 195,-84.4197 195,-75.6125\"/>\n",
       "<polygon fill=\"black\" stroke=\"black\" points=\"198.5,-75.5428 195,-65.5428 191.5,-75.5429 198.5,-75.5428\"/>\n",
       "</g>\n",
       "<!-- 6 -->\n",
       "<g id=\"node7\" class=\"node\"><title>6</title>\n",
       "<path fill=\"#eb9e66\" stroke=\"black\" d=\"M387,-65.5C387,-65.5 287,-65.5 287,-65.5 281,-65.5 275,-59.5 275,-53.5 275,-53.5 275,-12.5 275,-12.5 275,-6.5 281,-0.5 287,-0.5 287,-0.5 387,-0.5 387,-0.5 393,-0.5 399,-6.5 399,-12.5 399,-12.5 399,-53.5 399,-53.5 399,-59.5 393,-65.5 387,-65.5\"/>\n",
       "<text text-anchor=\"start\" x=\"293\" y=\"-51.3\" font-family=\"Helvetica,sans-Serif\" font-size=\"14.00\">gini = 0.303</text>\n",
       "<text text-anchor=\"start\" x=\"287\" y=\"-37.3\" font-family=\"Helvetica,sans-Serif\" font-size=\"14.00\">samples = 43</text>\n",
       "<text text-anchor=\"start\" x=\"283.5\" y=\"-23.3\" font-family=\"Helvetica,sans-Serif\" font-size=\"14.00\">value = [35, 8]</text>\n",
       "<text text-anchor=\"start\" x=\"299.5\" y=\"-9.3\" font-family=\"Helvetica,sans-Serif\" font-size=\"14.00\">class = no</text>\n",
       "</g>\n",
       "<!-- 5&#45;&gt;6 -->\n",
       "<g id=\"edge6\" class=\"edge\"><title>5&#45;&gt;6</title>\n",
       "<path fill=\"none\" stroke=\"black\" d=\"M407.926,-102.371C397.93,-92.7348 387.209,-82.3999 377.207,-72.758\"/>\n",
       "<polygon fill=\"black\" stroke=\"black\" points=\"379.351,-69.9632 369.722,-65.5428 374.493,-75.0029 379.351,-69.9632\"/>\n",
       "</g>\n",
       "<!-- 7 -->\n",
       "<g id=\"node8\" class=\"node\"><title>7</title>\n",
       "<path fill=\"#f3c5a4\" stroke=\"black\" d=\"M538.25,-65.5C538.25,-65.5 429.75,-65.5 429.75,-65.5 423.75,-65.5 417.75,-59.5 417.75,-53.5 417.75,-53.5 417.75,-12.5 417.75,-12.5 417.75,-6.5 423.75,-0.5 429.75,-0.5 429.75,-0.5 538.25,-0.5 538.25,-0.5 544.25,-0.5 550.25,-6.5 550.25,-12.5 550.25,-12.5 550.25,-53.5 550.25,-53.5 550.25,-59.5 544.25,-65.5 538.25,-65.5\"/>\n",
       "<text text-anchor=\"start\" x=\"440\" y=\"-51.3\" font-family=\"Helvetica,sans-Serif\" font-size=\"14.00\">gini = 0.456</text>\n",
       "<text text-anchor=\"start\" x=\"434\" y=\"-37.3\" font-family=\"Helvetica,sans-Serif\" font-size=\"14.00\">samples = 74</text>\n",
       "<text text-anchor=\"start\" x=\"426\" y=\"-23.3\" font-family=\"Helvetica,sans-Serif\" font-size=\"14.00\">value = [48, 26]</text>\n",
       "<text text-anchor=\"start\" x=\"446.5\" y=\"-9.3\" font-family=\"Helvetica,sans-Serif\" font-size=\"14.00\">class = no</text>\n",
       "</g>\n",
       "<!-- 5&#45;&gt;7 -->\n",
       "<g id=\"edge7\" class=\"edge\"><title>5&#45;&gt;7</title>\n",
       "<path fill=\"none\" stroke=\"black\" d=\"M460.997,-102.371C463.984,-93.4905 467.172,-84.0168 470.193,-75.0388\"/>\n",
       "<polygon fill=\"black\" stroke=\"black\" points=\"473.516,-76.1369 473.387,-65.5428 466.881,-73.9047 473.516,-76.1369\"/>\n",
       "</g>\n",
       "<!-- 9 -->\n",
       "<g id=\"node10\" class=\"node\"><title>9</title>\n",
       "<path fill=\"#fef8f4\" stroke=\"black\" d=\"M724.25,-181.5C724.25,-181.5 615.75,-181.5 615.75,-181.5 609.75,-181.5 603.75,-175.5 603.75,-169.5 603.75,-169.5 603.75,-114.5 603.75,-114.5 603.75,-108.5 609.75,-102.5 615.75,-102.5 615.75,-102.5 724.25,-102.5 724.25,-102.5 730.25,-102.5 736.25,-108.5 736.25,-114.5 736.25,-114.5 736.25,-169.5 736.25,-169.5 736.25,-175.5 730.25,-181.5 724.25,-181.5\"/>\n",
       "<text text-anchor=\"start\" x=\"612.5\" y=\"-167.3\" font-family=\"Helvetica,sans-Serif\" font-size=\"14.00\">presion ≤ 151.0</text>\n",
       "<text text-anchor=\"start\" x=\"635\" y=\"-153.3\" font-family=\"Helvetica,sans-Serif\" font-size=\"14.00\">gini = 0.5</text>\n",
       "<text text-anchor=\"start\" x=\"615.5\" y=\"-139.3\" font-family=\"Helvetica,sans-Serif\" font-size=\"14.00\">samples = 107</text>\n",
       "<text text-anchor=\"start\" x=\"612\" y=\"-125.3\" font-family=\"Helvetica,sans-Serif\" font-size=\"14.00\">value = [55, 52]</text>\n",
       "<text text-anchor=\"start\" x=\"632.5\" y=\"-111.3\" font-family=\"Helvetica,sans-Serif\" font-size=\"14.00\">class = no</text>\n",
       "</g>\n",
       "<!-- 8&#45;&gt;9 -->\n",
       "<g id=\"edge9\" class=\"edge\"><title>8&#45;&gt;9</title>\n",
       "<path fill=\"none\" stroke=\"black\" d=\"M670,-218.405C670,-209.862 670,-200.702 670,-191.813\"/>\n",
       "<polygon fill=\"black\" stroke=\"black\" points=\"673.5,-191.555 670,-181.555 666.5,-191.555 673.5,-191.555\"/>\n",
       "</g>\n",
       "<!-- 12 -->\n",
       "<g id=\"node13\" class=\"node\"><title>12</title>\n",
       "<path fill=\"#65b3eb\" stroke=\"black\" d=\"M978,-181.5C978,-181.5 878,-181.5 878,-181.5 872,-181.5 866,-175.5 866,-169.5 866,-169.5 866,-114.5 866,-114.5 866,-108.5 872,-102.5 878,-102.5 878,-102.5 978,-102.5 978,-102.5 984,-102.5 990,-108.5 990,-114.5 990,-114.5 990,-169.5 990,-169.5 990,-175.5 984,-181.5 978,-181.5\"/>\n",
       "<text text-anchor=\"start\" x=\"883.5\" y=\"-167.3\" font-family=\"Helvetica,sans-Serif\" font-size=\"14.00\">edad ≤ 57.5</text>\n",
       "<text text-anchor=\"start\" x=\"884\" y=\"-153.3\" font-family=\"Helvetica,sans-Serif\" font-size=\"14.00\">gini = 0.298</text>\n",
       "<text text-anchor=\"start\" x=\"878\" y=\"-139.3\" font-family=\"Helvetica,sans-Serif\" font-size=\"14.00\">samples = 22</text>\n",
       "<text text-anchor=\"start\" x=\"874.5\" y=\"-125.3\" font-family=\"Helvetica,sans-Serif\" font-size=\"14.00\">value = [4, 18]</text>\n",
       "<text text-anchor=\"start\" x=\"894\" y=\"-111.3\" font-family=\"Helvetica,sans-Serif\" font-size=\"14.00\">class = si</text>\n",
       "</g>\n",
       "<!-- 8&#45;&gt;12 -->\n",
       "<g id=\"edge12\" class=\"edge\"><title>8&#45;&gt;12</title>\n",
       "<path fill=\"none\" stroke=\"black\" d=\"M736.441,-227.642C773.191,-211.404 818.878,-191.217 856.417,-174.63\"/>\n",
       "<polygon fill=\"black\" stroke=\"black\" points=\"858.042,-177.738 865.774,-170.495 855.213,-171.335 858.042,-177.738\"/>\n",
       "</g>\n",
       "<!-- 10 -->\n",
       "<g id=\"node11\" class=\"node\"><title>10</title>\n",
       "<path fill=\"#ecf6fd\" stroke=\"black\" d=\"M689.25,-65.5C689.25,-65.5 580.75,-65.5 580.75,-65.5 574.75,-65.5 568.75,-59.5 568.75,-53.5 568.75,-53.5 568.75,-12.5 568.75,-12.5 568.75,-6.5 574.75,-0.5 580.75,-0.5 580.75,-0.5 689.25,-0.5 689.25,-0.5 695.25,-0.5 701.25,-6.5 701.25,-12.5 701.25,-12.5 701.25,-53.5 701.25,-53.5 701.25,-59.5 695.25,-65.5 689.25,-65.5\"/>\n",
       "<text text-anchor=\"start\" x=\"591\" y=\"-51.3\" font-family=\"Helvetica,sans-Serif\" font-size=\"14.00\">gini = 0.499</text>\n",
       "<text text-anchor=\"start\" x=\"585\" y=\"-37.3\" font-family=\"Helvetica,sans-Serif\" font-size=\"14.00\">samples = 80</text>\n",
       "<text text-anchor=\"start\" x=\"577\" y=\"-23.3\" font-family=\"Helvetica,sans-Serif\" font-size=\"14.00\">value = [38, 42]</text>\n",
       "<text text-anchor=\"start\" x=\"601\" y=\"-9.3\" font-family=\"Helvetica,sans-Serif\" font-size=\"14.00\">class = si</text>\n",
       "</g>\n",
       "<!-- 9&#45;&gt;10 -->\n",
       "<g id=\"edge10\" class=\"edge\"><title>9&#45;&gt;10</title>\n",
       "<path fill=\"none\" stroke=\"black\" d=\"M657.364,-102.371C654.49,-93.585 651.427,-84.2183 648.518,-75.3255\"/>\n",
       "<polygon fill=\"black\" stroke=\"black\" points=\"651.753,-73.9592 645.318,-65.5428 645.1,-76.1354 651.753,-73.9592\"/>\n",
       "</g>\n",
       "<!-- 11 -->\n",
       "<g id=\"node12\" class=\"node\"><title>11</title>\n",
       "<path fill=\"#f4cbad\" stroke=\"black\" d=\"M840.25,-65.5C840.25,-65.5 731.75,-65.5 731.75,-65.5 725.75,-65.5 719.75,-59.5 719.75,-53.5 719.75,-53.5 719.75,-12.5 719.75,-12.5 719.75,-6.5 725.75,-0.5 731.75,-0.5 731.75,-0.5 840.25,-0.5 840.25,-0.5 846.25,-0.5 852.25,-6.5 852.25,-12.5 852.25,-12.5 852.25,-53.5 852.25,-53.5 852.25,-59.5 846.25,-65.5 840.25,-65.5\"/>\n",
       "<text text-anchor=\"start\" x=\"742\" y=\"-51.3\" font-family=\"Helvetica,sans-Serif\" font-size=\"14.00\">gini = 0.466</text>\n",
       "<text text-anchor=\"start\" x=\"736\" y=\"-37.3\" font-family=\"Helvetica,sans-Serif\" font-size=\"14.00\">samples = 27</text>\n",
       "<text text-anchor=\"start\" x=\"728\" y=\"-23.3\" font-family=\"Helvetica,sans-Serif\" font-size=\"14.00\">value = [17, 10]</text>\n",
       "<text text-anchor=\"start\" x=\"748.5\" y=\"-9.3\" font-family=\"Helvetica,sans-Serif\" font-size=\"14.00\">class = no</text>\n",
       "</g>\n",
       "<!-- 9&#45;&gt;11 -->\n",
       "<g id=\"edge11\" class=\"edge\"><title>9&#45;&gt;11</title>\n",
       "<path fill=\"none\" stroke=\"black\" d=\"M711.879,-102.371C722.427,-92.6403 733.749,-82.1972 744.289,-72.4746\"/>\n",
       "<polygon fill=\"black\" stroke=\"black\" points=\"746.827,-74.8957 751.804,-65.5428 742.08,-69.7504 746.827,-74.8957\"/>\n",
       "</g>\n",
       "<!-- 13 -->\n",
       "<g id=\"node14\" class=\"node\"><title>13</title>\n",
       "<path fill=\"#88c4ef\" stroke=\"black\" d=\"M973.25,-65.5C973.25,-65.5 882.75,-65.5 882.75,-65.5 876.75,-65.5 870.75,-59.5 870.75,-53.5 870.75,-53.5 870.75,-12.5 870.75,-12.5 870.75,-6.5 876.75,-0.5 882.75,-0.5 882.75,-0.5 973.25,-0.5 973.25,-0.5 979.25,-0.5 985.25,-6.5 985.25,-12.5 985.25,-12.5 985.25,-53.5 985.25,-53.5 985.25,-59.5 979.25,-65.5 973.25,-65.5\"/>\n",
       "<text text-anchor=\"start\" x=\"884\" y=\"-51.3\" font-family=\"Helvetica,sans-Serif\" font-size=\"14.00\">gini = 0.408</text>\n",
       "<text text-anchor=\"start\" x=\"882.5\" y=\"-37.3\" font-family=\"Helvetica,sans-Serif\" font-size=\"14.00\">samples = 7</text>\n",
       "<text text-anchor=\"start\" x=\"879\" y=\"-23.3\" font-family=\"Helvetica,sans-Serif\" font-size=\"14.00\">value = [2, 5]</text>\n",
       "<text text-anchor=\"start\" x=\"894\" y=\"-9.3\" font-family=\"Helvetica,sans-Serif\" font-size=\"14.00\">class = si</text>\n",
       "</g>\n",
       "<!-- 12&#45;&gt;13 -->\n",
       "<g id=\"edge13\" class=\"edge\"><title>12&#45;&gt;13</title>\n",
       "<path fill=\"none\" stroke=\"black\" d=\"M928,-102.371C928,-93.6795 928,-84.4197 928,-75.6125\"/>\n",
       "<polygon fill=\"black\" stroke=\"black\" points=\"931.5,-75.5428 928,-65.5428 924.5,-75.5429 931.5,-75.5428\"/>\n",
       "</g>\n",
       "<!-- 14 -->\n",
       "<g id=\"node15\" class=\"node\"><title>14</title>\n",
       "<path fill=\"#57ace9\" stroke=\"black\" d=\"M1116,-65.5C1116,-65.5 1016,-65.5 1016,-65.5 1010,-65.5 1004,-59.5 1004,-53.5 1004,-53.5 1004,-12.5 1004,-12.5 1004,-6.5 1010,-0.5 1016,-0.5 1016,-0.5 1116,-0.5 1116,-0.5 1122,-0.5 1128,-6.5 1128,-12.5 1128,-12.5 1128,-53.5 1128,-53.5 1128,-59.5 1122,-65.5 1116,-65.5\"/>\n",
       "<text text-anchor=\"start\" x=\"1022\" y=\"-51.3\" font-family=\"Helvetica,sans-Serif\" font-size=\"14.00\">gini = 0.231</text>\n",
       "<text text-anchor=\"start\" x=\"1016\" y=\"-37.3\" font-family=\"Helvetica,sans-Serif\" font-size=\"14.00\">samples = 15</text>\n",
       "<text text-anchor=\"start\" x=\"1012.5\" y=\"-23.3\" font-family=\"Helvetica,sans-Serif\" font-size=\"14.00\">value = [2, 13]</text>\n",
       "<text text-anchor=\"start\" x=\"1032\" y=\"-9.3\" font-family=\"Helvetica,sans-Serif\" font-size=\"14.00\">class = si</text>\n",
       "</g>\n",
       "<!-- 12&#45;&gt;14 -->\n",
       "<g id=\"edge14\" class=\"edge\"><title>12&#45;&gt;14</title>\n",
       "<path fill=\"none\" stroke=\"black\" d=\"M977.821,-102.371C990.614,-92.4514 1004.36,-81.7914 1017.11,-71.9091\"/>\n",
       "<polygon fill=\"black\" stroke=\"black\" points=\"1019.56,-74.4364 1025.32,-65.5428 1015.27,-68.9044 1019.56,-74.4364\"/>\n",
       "</g>\n",
       "</g>\n",
       "</svg>\n"
      ],
      "text/plain": [
       "<graphviz.files.Source at 0x7f03b75b1240>"
      ]
     },
     "execution_count": 37,
     "metadata": {},
     "output_type": "execute_result"
    }
   ],
   "source": [
    "dot_data = tree.export_graphviz(trf, out_file=None,\n",
    "                     feature_names=['edad','presion'],  \n",
    "                     class_names=['no','si'], \n",
    "                     filled=True, rounded=True,  \n",
    "                     special_characters=True)  \n",
    "graph = gv.Source(dot_data)  \n",
    "graph "
   ]
  },
  {
   "cell_type": "code",
   "execution_count": 39,
   "metadata": {},
   "outputs": [
    {
     "name": "stdout",
     "output_type": "stream",
     "text": [
      "Porcentaje de datos bien clasificados\n",
      "0.6474820143884892\n",
      "número de datos bien clasificados\n"
     ]
    },
    {
     "data": {
      "text/plain": [
       "90"
      ]
     },
     "execution_count": 39,
     "metadata": {},
     "output_type": "execute_result"
    }
   ],
   "source": [
    "yp=trf.predict(X_test)\n",
    "print('Porcentaje de datos bien clasificados')\n",
    "print(accuracy_score(y_test,yp))\n",
    "print('número de datos bien clasificados')\n",
    "accuracy_score(y_test,yp,normalize=False)"
   ]
  },
  {
   "cell_type": "code",
   "execution_count": 173,
   "metadata": {},
   "outputs": [],
   "source": [
    "#dot_data = tree.export_graphviz(trf, out_file=None) \n",
    "#graph = gv.Source(dot_data) \n",
    "#graph.render(\"iris\") "
   ]
  },
  {
   "cell_type": "markdown",
   "metadata": {},
   "source": [
    "Ojo: Scikit-Learn usa una versión optimizada del algoritmo CART el cual es un algoritmo muy similar a C4.5, sin embargo esta implementación no soporta variables categoricas por ahora.\n",
    "\n"
   ]
  }
 ],
 "metadata": {
  "kernelspec": {
   "display_name": "Python 3",
   "language": "python",
   "name": "python3"
  },
  "language_info": {
   "codemirror_mode": {
    "name": "ipython",
    "version": 3
   },
   "file_extension": ".py",
   "mimetype": "text/x-python",
   "name": "python",
   "nbconvert_exporter": "python",
   "pygments_lexer": "ipython3",
   "version": "3.7.3"
  }
 },
 "nbformat": 4,
 "nbformat_minor": 2
}
