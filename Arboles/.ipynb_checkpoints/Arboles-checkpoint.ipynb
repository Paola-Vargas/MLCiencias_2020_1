{
 "cells": [
  {
   "cell_type": "code",
   "execution_count": 1,
   "metadata": {},
   "outputs": [],
   "source": [
    "import os \n",
    "#agregar al path el lugar de la instalacion de graphviz (dot.exe)\n",
    "os.environ[\"PATH\"] += os.pathsep + r'C:\\Users\\jimmy\\Anaconda3\\Library\\bin\\graphviz'"
   ]
  },
  {
   "cell_type": "code",
   "execution_count": 2,
   "metadata": {},
   "outputs": [],
   "source": [
    "import urllib.request as url\n",
    "import pandas as pd\n",
    "from sklearn import tree\n",
    "import graphviz as gv\n",
    "import numpy as np\n",
    "from sklearn.metrics import accuracy_score\n",
    "from sklearn.model_selection import train_test_split"
   ]
  },
  {
   "cell_type": "code",
   "execution_count": null,
   "metadata": {},
   "outputs": [],
   "source": [
    "#obtener datos, hay que limpiarlo\n",
    "target_url = (\"http://www.stat.cmu.edu/~larry/all-of-statistics/=data/coris.dat\")\n",
    "data = url.urlopen(target_url)\n",
    "html = data.read()\n",
    "html\n",
    "with open('coris.csv', 'wb') as f:\n",
    "     f.write(html)"
   ]
  },
  {
   "cell_type": "markdown",
   "metadata": {},
   "source": [
    "#### Descripción de los datos\n",
    "The Coronary Risk-Factor Study (CORIS) data involve 462 males between the ages of 15 and 64 from three rural areas in South Africa, (Rousseauw et al. (1983)). The outcome Y is the presence (Y = 1) or absence (Y = 0) of coronary heart disease. There are 9 covariates: systolic blood pressure, cumulative tobacco (kg), ldl (low density lipoprotein cholesterol), adiposity, famhist (family history of heart disease), typea (type-A behavior), obesity, alcohol (current alcohol consumption), and age."
   ]
  },
  {
   "cell_type": "code",
   "execution_count": 3,
   "metadata": {},
   "outputs": [
    {
     "data": {
      "text/html": [
       "<div>\n",
       "<style scoped>\n",
       "    .dataframe tbody tr th:only-of-type {\n",
       "        vertical-align: middle;\n",
       "    }\n",
       "\n",
       "    .dataframe tbody tr th {\n",
       "        vertical-align: top;\n",
       "    }\n",
       "\n",
       "    .dataframe thead th {\n",
       "        text-align: right;\n",
       "    }\n",
       "</style>\n",
       "<table border=\"1\" class=\"dataframe\">\n",
       "  <thead>\n",
       "    <tr style=\"text-align: right;\">\n",
       "      <th></th>\n",
       "      <th>row.names</th>\n",
       "      <th>sbp</th>\n",
       "      <th>tobacco</th>\n",
       "      <th>ldl</th>\n",
       "      <th>adiposity</th>\n",
       "      <th>famhist</th>\n",
       "      <th>typea</th>\n",
       "      <th>obesity</th>\n",
       "      <th>alcohol</th>\n",
       "      <th>age</th>\n",
       "      <th>chd</th>\n",
       "    </tr>\n",
       "  </thead>\n",
       "  <tbody>\n",
       "    <tr>\n",
       "      <th>0</th>\n",
       "      <td>1</td>\n",
       "      <td>160</td>\n",
       "      <td>12.00</td>\n",
       "      <td>5.73</td>\n",
       "      <td>23.11</td>\n",
       "      <td>1</td>\n",
       "      <td>49</td>\n",
       "      <td>25.30</td>\n",
       "      <td>97.20</td>\n",
       "      <td>52</td>\n",
       "      <td>1</td>\n",
       "    </tr>\n",
       "    <tr>\n",
       "      <th>1</th>\n",
       "      <td>2</td>\n",
       "      <td>144</td>\n",
       "      <td>0.01</td>\n",
       "      <td>4.41</td>\n",
       "      <td>28.61</td>\n",
       "      <td>0</td>\n",
       "      <td>55</td>\n",
       "      <td>28.87</td>\n",
       "      <td>2.06</td>\n",
       "      <td>63</td>\n",
       "      <td>1</td>\n",
       "    </tr>\n",
       "  </tbody>\n",
       "</table>\n",
       "</div>"
      ],
      "text/plain": [
       "   row.names  sbp  tobacco   ldl  adiposity  famhist  typea  obesity  alcohol  \\\n",
       "0          1  160    12.00  5.73      23.11        1     49    25.30    97.20   \n",
       "1          2  144     0.01  4.41      28.61        0     55    28.87     2.06   \n",
       "\n",
       "   age  chd  \n",
       "0   52    1  \n",
       "1   63    1  "
      ]
     },
     "execution_count": 3,
     "metadata": {},
     "output_type": "execute_result"
    }
   ],
   "source": [
    "data=pd.read_csv('coris.csv',sep=',',header=0)\n",
    "data.iloc[:2,:]"
   ]
  },
  {
   "cell_type": "code",
   "execution_count": 4,
   "metadata": {},
   "outputs": [],
   "source": [
    "#### Arbol con dos atributos\n",
    "df1=data['age']\n",
    "df2=data['sbp']\n",
    "data2 = pd.concat([df1, df2], axis=1, join_axes=[df1.index])"
   ]
  },
  {
   "cell_type": "code",
   "execution_count": 10,
   "metadata": {},
   "outputs": [
    {
     "data": {
      "text/plain": [
       "139"
      ]
     },
     "execution_count": 10,
     "metadata": {},
     "output_type": "execute_result"
    }
   ],
   "source": [
    "X_train, X_test, y_train, y_test = train_test_split(\n",
    "    data2, data['chd'], test_size=0.30, random_state=42)\n",
    "len(y_test)"
   ]
  },
  {
   "cell_type": "code",
   "execution_count": 6,
   "metadata": {},
   "outputs": [
    {
     "name": "stdout",
     "output_type": "stream",
     "text": [
      "Personas con enferdad de las coronarias\n",
      "0    302\n",
      "1    160\n",
      "Name: chd, dtype: int64\n",
      "Personas con edad menor de 50 años\n",
      "290\n"
     ]
    }
   ],
   "source": [
    "print('Personas con enferdad de las coronarias')\n",
    "print(pd.value_counts(data['chd']))\n",
    "print('Personas con edad menor de 50 años')\n",
    "print(sum([1 for i in data['age'] if i<=50]))"
   ]
  },
  {
   "cell_type": "markdown",
   "metadata": {},
   "source": [
    "### Arboles \n",
    "A grandes rasgos los árboles de clasificación son métodos que particionan el espacio de covariables $\\mathcal{X}$ en pienzas disjuntas y entonces clasificamos las observaciones de acuerdo a la partición a la que pertencen.\n",
    "\n",
    "Supongamos que se tinen dos categorias  $y\\in \\mathcal{Y}=\\{0,1\\}$. Y tenemos solamente una covariable $X$. Escogemos un punto t que divide a la recta a la recta real en dos conjunto $A_1=(-\\infty,t]$, $A_2=(t,\\infty)$. Sea $\\hat{p}_s(j)$ la proporción de observaciones en $A_s$, tal que $Y_i=j$. \n",
    "$$\n",
    "\\hat{p}_s(j)=\\dfrac{\\sum_{i=1}^n I(Y_i=j,X_i\\in A_s)}{\\sum_{i=1}^n I(X_i\\in A_s)}\n",
    "$$\n",
    "para $s=1,2$ y $j=0,1$. La impureza del split se define como, \n",
    "$$\n",
    "I(t)=\\sum_{s=1}^2\\gamma_s\n",
    "$$\n",
    "donde $\\gamma_s=1-\\sum_{j=0}^1 \\hat{p}_s(j)^2$\n",
    "Esta es una medida de la impureza y se le conoce como indice de $\\textbf{Gini}$\n",
    "\n",
    "Ventajas\n",
    "\n",
    "* Fácil de interpretar.\n",
    "* No paramétrico\n",
    "* A los bancos les encanta en credit scoring \n",
    "\n",
    "Trataré de no hablar mal de los árboles como de las redes neuronales, pero...\n",
    "\n",
    "Deventajas \n",
    "\n",
    "* Sobreajuste\n",
    "* Pérdida de información al categorizar variables continuas\n",
    "* Precisión: si pueden usar mejor SVM, usenlos! tienen tasas de error más bajas hasta 30 %  \n",
    "* Inestabilidad: un pequeño cambio en los datos puede modificar ampliamente la estructura del árbol\n",
    "* Aguas con la heuristica "
   ]
  },
  {
   "cell_type": "markdown",
   "metadata": {},
   "source": [
    "Parametros\n",
    "1. $\\textit{max_leaf_nodes}$ es el maximo número de nodos hojas (nodos sin hijos) para reducción relativa de la impureza\n",
    "2. $\\textit{max_depth}$ profundidad maxima.\n",
    "3. $\\textit{criterion}$ criterio para la división de los datos, Gini (impureza)\n",
    "El indice de Gini es un valor entre 0 y 1"
   ]
  },
  {
   "cell_type": "code",
   "execution_count": 28,
   "metadata": {},
   "outputs": [],
   "source": [
    "tr=tree.DecisionTreeClassifier(criterion=\"gini\",max_depth=2,max_leaf_nodes=None)\n",
    "trf=tr.fit(X_train,y_train)"
   ]
  },
  {
   "cell_type": "code",
   "execution_count": 29,
   "metadata": {},
   "outputs": [
    {
     "data": {
      "image/svg+xml": [
       "<?xml version=\"1.0\" encoding=\"UTF-8\" standalone=\"no\"?>\r\n",
       "<!DOCTYPE svg PUBLIC \"-//W3C//DTD SVG 1.1//EN\"\r\n",
       " \"http://www.w3.org/Graphics/SVG/1.1/DTD/svg11.dtd\">\r\n",
       "<!-- Generated by graphviz version 2.38.0 (20140413.2041)\r\n",
       " -->\r\n",
       "<!-- Title: Tree Pages: 1 -->\r\n",
       "<svg width=\"501pt\" height=\"314pt\"\r\n",
       " viewBox=\"0.00 0.00 501.00 314.00\" xmlns=\"http://www.w3.org/2000/svg\" xmlns:xlink=\"http://www.w3.org/1999/xlink\">\r\n",
       "<g id=\"graph0\" class=\"graph\" transform=\"scale(1 1) rotate(0) translate(4 310)\">\r\n",
       "<title>Tree</title>\r\n",
       "<polygon fill=\"white\" stroke=\"none\" points=\"-4,4 -4,-310 497,-310 497,4 -4,4\"/>\r\n",
       "<!-- 0 -->\r\n",
       "<g id=\"node1\" class=\"node\"><title>0</title>\r\n",
       "<path fill=\"#e58139\" fill-opacity=\"0.474510\" stroke=\"black\" d=\"M298.5,-306C298.5,-306 192.5,-306 192.5,-306 186.5,-306 180.5,-300 180.5,-294 180.5,-294 180.5,-235 180.5,-235 180.5,-229 186.5,-223 192.5,-223 192.5,-223 298.5,-223 298.5,-223 304.5,-223 310.5,-229 310.5,-235 310.5,-235 310.5,-294 310.5,-294 310.5,-300 304.5,-306 298.5,-306\"/>\r\n",
       "<text text-anchor=\"start\" x=\"211.5\" y=\"-290.8\" font-family=\"Helvetica,sans-Serif\" font-size=\"14.00\">age ≤ 49.5</text>\r\n",
       "<text text-anchor=\"start\" x=\"208\" y=\"-275.8\" font-family=\"Helvetica,sans-Serif\" font-size=\"14.00\">gini = 0.451</text>\r\n",
       "<text text-anchor=\"start\" x=\"198\" y=\"-260.8\" font-family=\"Helvetica,sans-Serif\" font-size=\"14.00\">samples = 323</text>\r\n",
       "<text text-anchor=\"start\" x=\"188.5\" y=\"-245.8\" font-family=\"Helvetica,sans-Serif\" font-size=\"14.00\">value = [212, 111]</text>\r\n",
       "<text text-anchor=\"start\" x=\"213\" y=\"-230.8\" font-family=\"Helvetica,sans-Serif\" font-size=\"14.00\">class = no</text>\r\n",
       "</g>\r\n",
       "<!-- 1 -->\r\n",
       "<g id=\"node2\" class=\"node\"><title>1</title>\r\n",
       "<path fill=\"#e58139\" fill-opacity=\"0.733333\" stroke=\"black\" d=\"M226.5,-187C226.5,-187 128.5,-187 128.5,-187 122.5,-187 116.5,-181 116.5,-175 116.5,-175 116.5,-116 116.5,-116 116.5,-110 122.5,-104 128.5,-104 128.5,-104 226.5,-104 226.5,-104 232.5,-104 238.5,-110 238.5,-116 238.5,-116 238.5,-175 238.5,-175 238.5,-181 232.5,-187 226.5,-187\"/>\r\n",
       "<text text-anchor=\"start\" x=\"143.5\" y=\"-171.8\" font-family=\"Helvetica,sans-Serif\" font-size=\"14.00\">age ≤ 30.5</text>\r\n",
       "<text text-anchor=\"start\" x=\"140\" y=\"-156.8\" font-family=\"Helvetica,sans-Serif\" font-size=\"14.00\">gini = 0.333</text>\r\n",
       "<text text-anchor=\"start\" x=\"130\" y=\"-141.8\" font-family=\"Helvetica,sans-Serif\" font-size=\"14.00\">samples = 194</text>\r\n",
       "<text text-anchor=\"start\" x=\"124.5\" y=\"-126.8\" font-family=\"Helvetica,sans-Serif\" font-size=\"14.00\">value = [153, 41]</text>\r\n",
       "<text text-anchor=\"start\" x=\"145\" y=\"-111.8\" font-family=\"Helvetica,sans-Serif\" font-size=\"14.00\">class = no</text>\r\n",
       "</g>\r\n",
       "<!-- 0&#45;&gt;1 -->\r\n",
       "<g id=\"edge1\" class=\"edge\"><title>0&#45;&gt;1</title>\r\n",
       "<path fill=\"none\" stroke=\"black\" d=\"M221.908,-222.907C216.844,-214.195 211.44,-204.897 206.207,-195.893\"/>\r\n",
       "<polygon fill=\"black\" stroke=\"black\" points=\"209.102,-193.908 201.051,-187.021 203.049,-197.425 209.102,-193.908\"/>\r\n",
       "<text text-anchor=\"middle\" x=\"194.65\" y=\"-207.487\" font-family=\"Helvetica,sans-Serif\" font-size=\"14.00\">True</text>\r\n",
       "</g>\r\n",
       "<!-- 4 -->\r\n",
       "<g id=\"node5\" class=\"node\"><title>4</title>\r\n",
       "<path fill=\"#399de5\" fill-opacity=\"0.156863\" stroke=\"black\" d=\"M360.5,-187C360.5,-187 268.5,-187 268.5,-187 262.5,-187 256.5,-181 256.5,-175 256.5,-175 256.5,-116 256.5,-116 256.5,-110 262.5,-104 268.5,-104 268.5,-104 360.5,-104 360.5,-104 366.5,-104 372.5,-110 372.5,-116 372.5,-116 372.5,-175 372.5,-175 372.5,-181 366.5,-187 360.5,-187\"/>\r\n",
       "<text text-anchor=\"start\" x=\"264.5\" y=\"-171.8\" font-family=\"Helvetica,sans-Serif\" font-size=\"14.00\">presion ≤ 167.0</text>\r\n",
       "<text text-anchor=\"start\" x=\"277\" y=\"-156.8\" font-family=\"Helvetica,sans-Serif\" font-size=\"14.00\">gini = 0.496</text>\r\n",
       "<text text-anchor=\"start\" x=\"267\" y=\"-141.8\" font-family=\"Helvetica,sans-Serif\" font-size=\"14.00\">samples = 129</text>\r\n",
       "<text text-anchor=\"start\" x=\"266\" y=\"-126.8\" font-family=\"Helvetica,sans-Serif\" font-size=\"14.00\">value = [59, 70]</text>\r\n",
       "<text text-anchor=\"start\" x=\"284.5\" y=\"-111.8\" font-family=\"Helvetica,sans-Serif\" font-size=\"14.00\">class = si</text>\r\n",
       "</g>\r\n",
       "<!-- 0&#45;&gt;4 -->\r\n",
       "<g id=\"edge4\" class=\"edge\"><title>0&#45;&gt;4</title>\r\n",
       "<path fill=\"none\" stroke=\"black\" d=\"M269.439,-222.907C274.577,-214.195 280.061,-204.897 285.371,-195.893\"/>\r\n",
       "<polygon fill=\"black\" stroke=\"black\" points=\"288.538,-197.412 290.603,-187.021 282.508,-193.857 288.538,-197.412\"/>\r\n",
       "<text text-anchor=\"middle\" x=\"296.85\" y=\"-207.528\" font-family=\"Helvetica,sans-Serif\" font-size=\"14.00\">False</text>\r\n",
       "</g>\r\n",
       "<!-- 2 -->\r\n",
       "<g id=\"node3\" class=\"node\"><title>2</title>\r\n",
       "<path fill=\"#e58139\" fill-opacity=\"0.901961\" stroke=\"black\" d=\"M93,-68C93,-68 12,-68 12,-68 6,-68 0,-62 0,-56 0,-56 0,-12 0,-12 0,-6 6,-0 12,-0 12,-0 93,-0 93,-0 99,-0 105,-6 105,-12 105,-12 105,-56 105,-56 105,-62 99,-68 93,-68\"/>\r\n",
       "<text text-anchor=\"start\" x=\"15\" y=\"-52.8\" font-family=\"Helvetica,sans-Serif\" font-size=\"14.00\">gini = 0.165</text>\r\n",
       "<text text-anchor=\"start\" x=\"9\" y=\"-37.8\" font-family=\"Helvetica,sans-Serif\" font-size=\"14.00\">samples = 77</text>\r\n",
       "<text text-anchor=\"start\" x=\"8\" y=\"-22.8\" font-family=\"Helvetica,sans-Serif\" font-size=\"14.00\">value = [70, 7]</text>\r\n",
       "<text text-anchor=\"start\" x=\"20\" y=\"-7.8\" font-family=\"Helvetica,sans-Serif\" font-size=\"14.00\">class = no</text>\r\n",
       "</g>\r\n",
       "<!-- 1&#45;&gt;2 -->\r\n",
       "<g id=\"edge2\" class=\"edge\"><title>1&#45;&gt;2</title>\r\n",
       "<path fill=\"none\" stroke=\"black\" d=\"M130.955,-103.726C120.23,-94.3318 108.834,-84.349 98.1488,-74.9883\"/>\r\n",
       "<polygon fill=\"black\" stroke=\"black\" points=\"100.342,-72.2562 90.5132,-68.2996 95.729,-77.5217 100.342,-72.2562\"/>\r\n",
       "</g>\r\n",
       "<!-- 3 -->\r\n",
       "<g id=\"node4\" class=\"node\"><title>3</title>\r\n",
       "<path fill=\"#e58139\" fill-opacity=\"0.592157\" stroke=\"black\" d=\"M224,-68C224,-68 135,-68 135,-68 129,-68 123,-62 123,-56 123,-56 123,-12 123,-12 123,-6 129,-0 135,-0 135,-0 224,-0 224,-0 230,-0 236,-6 236,-12 236,-12 236,-56 236,-56 236,-62 230,-68 224,-68\"/>\r\n",
       "<text text-anchor=\"start\" x=\"142\" y=\"-52.8\" font-family=\"Helvetica,sans-Serif\" font-size=\"14.00\">gini = 0.412</text>\r\n",
       "<text text-anchor=\"start\" x=\"132\" y=\"-37.8\" font-family=\"Helvetica,sans-Serif\" font-size=\"14.00\">samples = 117</text>\r\n",
       "<text text-anchor=\"start\" x=\"131\" y=\"-22.8\" font-family=\"Helvetica,sans-Serif\" font-size=\"14.00\">value = [83, 34]</text>\r\n",
       "<text text-anchor=\"start\" x=\"147\" y=\"-7.8\" font-family=\"Helvetica,sans-Serif\" font-size=\"14.00\">class = no</text>\r\n",
       "</g>\r\n",
       "<!-- 1&#45;&gt;3 -->\r\n",
       "<g id=\"edge3\" class=\"edge\"><title>1&#45;&gt;3</title>\r\n",
       "<path fill=\"none\" stroke=\"black\" d=\"M178.245,-103.726C178.395,-95.5175 178.553,-86.8595 178.704,-78.56\"/>\r\n",
       "<polygon fill=\"black\" stroke=\"black\" points=\"182.208,-78.3619 178.892,-68.2996 175.21,-78.234 182.208,-78.3619\"/>\r\n",
       "</g>\r\n",
       "<!-- 5 -->\r\n",
       "<g id=\"node6\" class=\"node\"><title>5</title>\r\n",
       "<path fill=\"#e58139\" fill-opacity=\"0.054902\" stroke=\"black\" d=\"M358,-68C358,-68 269,-68 269,-68 263,-68 257,-62 257,-56 257,-56 257,-12 257,-12 257,-6 263,-0 269,-0 269,-0 358,-0 358,-0 364,-0 370,-6 370,-12 370,-12 370,-56 370,-56 370,-62 364,-68 358,-68\"/>\r\n",
       "<text text-anchor=\"start\" x=\"284.5\" y=\"-52.8\" font-family=\"Helvetica,sans-Serif\" font-size=\"14.00\">gini = 0.5</text>\r\n",
       "<text text-anchor=\"start\" x=\"266\" y=\"-37.8\" font-family=\"Helvetica,sans-Serif\" font-size=\"14.00\">samples = 107</text>\r\n",
       "<text text-anchor=\"start\" x=\"265\" y=\"-22.8\" font-family=\"Helvetica,sans-Serif\" font-size=\"14.00\">value = [55, 52]</text>\r\n",
       "<text text-anchor=\"start\" x=\"281\" y=\"-7.8\" font-family=\"Helvetica,sans-Serif\" font-size=\"14.00\">class = no</text>\r\n",
       "</g>\r\n",
       "<!-- 4&#45;&gt;5 -->\r\n",
       "<g id=\"edge5\" class=\"edge\"><title>4&#45;&gt;5</title>\r\n",
       "<path fill=\"none\" stroke=\"black\" d=\"M314.128,-103.726C314.053,-95.5175 313.974,-86.8595 313.898,-78.56\"/>\r\n",
       "<polygon fill=\"black\" stroke=\"black\" points=\"317.395,-78.2672 313.804,-68.2996 310.396,-78.3312 317.395,-78.2672\"/>\r\n",
       "</g>\r\n",
       "<!-- 6 -->\r\n",
       "<g id=\"node7\" class=\"node\"><title>6</title>\r\n",
       "<path fill=\"#399de5\" fill-opacity=\"0.776471\" stroke=\"black\" d=\"M481,-68C481,-68 400,-68 400,-68 394,-68 388,-62 388,-56 388,-56 388,-12 388,-12 388,-6 394,-0 400,-0 400,-0 481,-0 481,-0 487,-0 493,-6 493,-12 493,-12 493,-56 493,-56 493,-62 487,-68 481,-68\"/>\r\n",
       "<text text-anchor=\"start\" x=\"403\" y=\"-52.8\" font-family=\"Helvetica,sans-Serif\" font-size=\"14.00\">gini = 0.298</text>\r\n",
       "<text text-anchor=\"start\" x=\"397\" y=\"-37.8\" font-family=\"Helvetica,sans-Serif\" font-size=\"14.00\">samples = 22</text>\r\n",
       "<text text-anchor=\"start\" x=\"396\" y=\"-22.8\" font-family=\"Helvetica,sans-Serif\" font-size=\"14.00\">value = [4, 18]</text>\r\n",
       "<text text-anchor=\"start\" x=\"410.5\" y=\"-7.8\" font-family=\"Helvetica,sans-Serif\" font-size=\"14.00\">class = si</text>\r\n",
       "</g>\r\n",
       "<!-- 4&#45;&gt;6 -->\r\n",
       "<g id=\"edge6\" class=\"edge\"><title>4&#45;&gt;6</title>\r\n",
       "<path fill=\"none\" stroke=\"black\" d=\"M361.418,-103.726C372.228,-94.3318 383.715,-84.349 394.486,-74.9883\"/>\r\n",
       "<polygon fill=\"black\" stroke=\"black\" points=\"396.93,-77.501 402.183,-68.2996 392.339,-72.2174 396.93,-77.501\"/>\r\n",
       "</g>\r\n",
       "</g>\r\n",
       "</svg>\r\n"
      ],
      "text/plain": [
       "<graphviz.files.Source at 0x231b1f2e8d0>"
      ]
     },
     "execution_count": 29,
     "metadata": {},
     "output_type": "execute_result"
    }
   ],
   "source": [
    "dot_data = tree.export_graphviz(trf, out_file=None,\n",
    "                     feature_names=['age','presion'],  \n",
    "                     class_names=['no','si'], \n",
    "                     filled=True, rounded=True,  \n",
    "                     special_characters=True)  \n",
    "graph = gv.Source(dot_data)  \n",
    "graph "
   ]
  },
  {
   "cell_type": "code",
   "execution_count": 33,
   "metadata": {},
   "outputs": [
    {
     "name": "stdout",
     "output_type": "stream",
     "text": [
      "Porcentaje de datos bien clasificados\n",
      "0.6330935251798561\n",
      "número de datos bien clasificados\n"
     ]
    },
    {
     "data": {
      "text/plain": [
       "88"
      ]
     },
     "execution_count": 33,
     "metadata": {},
     "output_type": "execute_result"
    }
   ],
   "source": [
    "yp=trf.predict(X_test)\n",
    "print('Porcentaje de datos bien clasificados')\n",
    "print(accuracy_score(y_test,yp))\n",
    "print('número de datos bien clasificados')\n",
    "accuracy_score(y_test,yp,normalize=False)"
   ]
  },
  {
   "cell_type": "code",
   "execution_count": 173,
   "metadata": {},
   "outputs": [],
   "source": [
    "#dot_data = tree.export_graphviz(trf, out_file=None) \n",
    "#graph = gv.Source(dot_data) \n",
    "#graph.render(\"iris\") "
   ]
  },
  {
   "cell_type": "markdown",
   "metadata": {},
   "source": [
    "Ojo: Scikit-Learn usa una versión optimizada del algoritmo CART el cual es un algoritmo muy similar a C4.5, sin embargo esta implementación no soporta variables categoricas por ahora.\n",
    "\n"
   ]
  },
  {
   "cell_type": "code",
   "execution_count": null,
   "metadata": {},
   "outputs": [],
   "source": []
  }
 ],
 "metadata": {
  "kernelspec": {
   "display_name": "Python 3",
   "language": "python",
   "name": "python3"
  },
  "language_info": {
   "codemirror_mode": {
    "name": "ipython",
    "version": 3
   },
   "file_extension": ".py",
   "mimetype": "text/x-python",
   "name": "python",
   "nbconvert_exporter": "python",
   "pygments_lexer": "ipython3",
   "version": "3.7.3"
  }
 },
 "nbformat": 4,
 "nbformat_minor": 2
}
