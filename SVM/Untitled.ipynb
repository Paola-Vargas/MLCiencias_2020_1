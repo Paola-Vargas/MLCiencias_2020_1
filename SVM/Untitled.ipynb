{
 "cells": [
  {
   "cell_type": "code",
   "execution_count": 31,
   "metadata": {},
   "outputs": [],
   "source": [
    "import pyspark.sql.functions as f"
   ]
  },
  {
   "cell_type": "code",
   "execution_count": 32,
   "metadata": {},
   "outputs": [],
   "source": [
    "try:\n",
    "    from pyspark.sql import SparkSession\n",
    "except:\n",
    "    import findspark\n",
    "    findspark.init()\n",
    "    from pyspark.sql import SparkSession\n",
    "    "
   ]
  },
  {
   "cell_type": "code",
   "execution_count": 37,
   "metadata": {},
   "outputs": [
    {
     "name": "stdout",
     "output_type": "stream",
     "text": [
      "divide entre un numero que no sea cero\n",
      "hola y esto es importante\n"
     ]
    }
   ],
   "source": [
    "a=1\n",
    "b=0\n",
    "try:\n",
    "    a/b\n",
    "except:\n",
    "    print(\"divide entre un numero que no sea cero\")\n",
    "print(\"hola y esto es importante\")\n"
   ]
  },
  {
   "cell_type": "code",
   "execution_count": 38,
   "metadata": {},
   "outputs": [],
   "source": [
    "spark=SparkSession.builder\\\n",
    "    .master(\"local[4]\")\\\n",
    "    .appName(\"Seminario de Estadistica\") \\\n",
    "    .getOrCreate()"
   ]
  },
  {
   "cell_type": "code",
   "execution_count": 39,
   "metadata": {},
   "outputs": [],
   "source": [
    "spark=SparkSession.builder.master(\"local[4]\").appName(\"Seminario de Estadistica I\").getOrCreate()"
   ]
  },
  {
   "cell_type": "code",
   "execution_count": 68,
   "metadata": {},
   "outputs": [
    {
     "name": "stdout",
     "output_type": "stream",
     "text": [
      "<class 'pyspark.sql.dataframe.DataFrame'>\n"
     ]
    }
   ],
   "source": [
    "data=spark.read.csv(\"titanic_train.csv\",sep=\",\",header=True,inferSchema=True)\n",
    "print(type(data))"
   ]
  },
  {
   "cell_type": "code",
   "execution_count": 69,
   "metadata": {},
   "outputs": [
    {
     "name": "stdout",
     "output_type": "stream",
     "text": [
      "root\n",
      " |-- Start.Time: long (nullable = true)\n",
      " |--  Stop Time: long (nullable = true)\n",
      " |-- survived: integer (nullable = true)\n",
      " |-- sex: string (nullable = true)\n",
      " |-- age: double (nullable = true)\n",
      " |-- n_siblings_spouses: integer (nullable = true)\n",
      " |-- parch: integer (nullable = true)\n",
      " |-- fare: double (nullable = true)\n",
      " |-- class: string (nullable = true)\n",
      " |-- deck: string (nullable = true)\n",
      " |-- embark_town: string (nullable = true)\n",
      " |-- alone: string (nullable = true)\n",
      "\n"
     ]
    }
   ],
   "source": [
    "data.printSchema()"
   ]
  },
  {
   "cell_type": "code",
   "execution_count": 65,
   "metadata": {},
   "outputs": [
    {
     "name": "stdout",
     "output_type": "stream",
     "text": [
      "<class 'pyspark.sql.dataframe.DataFrame'>\n"
     ]
    }
   ],
   "source": [
    "print(type(data))"
   ]
  },
  {
   "cell_type": "code",
   "execution_count": 66,
   "metadata": {},
   "outputs": [
    {
     "name": "stdout",
     "output_type": "stream",
     "text": [
      "+-------------+-------------+--------+------+----+------------------+-----+-------+------+-------+-----------+-----+\n",
      "|   Start Time|    Stop Time|survived|   sex| age|n_siblings_spouses|parch|   fare| class|   deck|embark_town|alone|\n",
      "+-------------+-------------+--------+------+----+------------------+-----+-------+------+-------+-----------+-----+\n",
      "|1558541200360|1558541200369|       0|  male|22.0|                 1|    0|   7.25| Third|unknown|Southampton|    n|\n",
      "|1558541200364|1558541200402|       1|female|38.0|                 1|    0|71.2833| First|      C|  Cherbourg|    n|\n",
      "|1558541200437|1558541200438|       1|female|26.0|                 0|    0|  7.925| Third|unknown|Southampton|    y|\n",
      "|1558541200402|1558541200439|       1|female|35.0|                 1|    0|   53.1| First|      C|Southampton|    n|\n",
      "|1558541200300|1558541200564|       0|  male|28.0|                 0|    0| 8.4583| Third|unknown| Queenstown|    y|\n",
      "|1558541200498|1558541200595|       0|  male| 2.0|                 3|    1| 21.075| Third|unknown|Southampton|    n|\n",
      "|1558541200604|1558541200604|       1|female|27.0|                 0|    2|11.1333| Third|unknown|Southampton|    n|\n",
      "|1558541200604|1558541200604|       1|female|14.0|                 1|    0|30.0708|Second|unknown|  Cherbourg|    n|\n",
      "|1558541200604|1558541200604|       1|female| 4.0|                 1|    1|   16.7| Third|      G|Southampton|    n|\n",
      "|1558541200604|1558541200604|       0|  male|20.0|                 0|    0|   8.05| Third|unknown|Southampton|    y|\n",
      "+-------------+-------------+--------+------+----+------------------+-----+-------+------+-------+-----------+-----+\n",
      "only showing top 10 rows\n",
      "\n"
     ]
    }
   ],
   "source": [
    "data.count()\n",
    "data.show(10)"
   ]
  },
  {
   "cell_type": "code",
   "execution_count": 73,
   "metadata": {},
   "outputs": [],
   "source": [
    "new_column= list(map(lambda x: x.replace(\".\", \"\"), data.columns))\n",
    "data=data.toDF(*new_column)"
   ]
  },
  {
   "cell_type": "code",
   "execution_count": 78,
   "metadata": {},
   "outputs": [],
   "source": [
    "data=data.withColumn(\"tiempoincio\",f.to_timestamp((f.col(\"StartTime\")/1000).cast(\"timestamp\"), \n",
    "                                        'yyyy-MM-dd HH:mm:ss')) \\"
   ]
  },
  {
   "cell_type": "code",
   "execution_count": 81,
   "metadata": {},
   "outputs": [
    {
     "name": "stdout",
     "output_type": "stream",
     "text": [
      "+-------------------+\n",
      "|        tiempoincio|\n",
      "+-------------------+\n",
      "|2019-05-22 11:06:40|\n",
      "|2019-05-22 11:06:40|\n",
      "+-------------------+\n",
      "only showing top 2 rows\n",
      "\n"
     ]
    }
   ],
   "source": [
    "data.select(\"tiempoincio\").show(2)"
   ]
  },
  {
   "cell_type": "code",
   "execution_count": 77,
   "metadata": {},
   "outputs": [
    {
     "data": {
      "text/plain": [
       "DataFrame[n_siblings_spouses: int]"
      ]
     },
     "execution_count": 77,
     "metadata": {},
     "output_type": "execute_result"
    }
   ],
   "source": [
    "data.select(\"n_siblings_spouses\")"
   ]
  },
  {
   "cell_type": "code",
   "execution_count": 58,
   "metadata": {},
   "outputs": [],
   "source": [
    "data.createOrReplaceTempView(\"tablaprueba\")"
   ]
  },
  {
   "cell_type": "code",
   "execution_count": 62,
   "metadata": {},
   "outputs": [
    {
     "name": "stdout",
     "output_type": "stream",
     "text": [
      "+--------+\n",
      "|count(1)|\n",
      "+--------+\n",
      "|     264|\n",
      "+--------+\n",
      "\n"
     ]
    }
   ],
   "source": [
    "spark.sql(\"SELECT count(*) from tablaprueba\").show()"
   ]
  },
  {
   "cell_type": "code",
   "execution_count": null,
   "metadata": {},
   "outputs": [],
   "source": []
  },
  {
   "cell_type": "code",
   "execution_count": 12,
   "metadata": {},
   "outputs": [],
   "source": [
    "#data.write.parquet(\"tinatinic.parquet\")"
   ]
  },
  {
   "cell_type": "code",
   "execution_count": 13,
   "metadata": {},
   "outputs": [],
   "source": [
    "data=spark.read.parquet(\"tinatinic.parquet\")"
   ]
  },
  {
   "cell_type": "code",
   "execution_count": 14,
   "metadata": {},
   "outputs": [
    {
     "name": "stdout",
     "output_type": "stream",
     "text": [
      "+--------+----+----+------------------+-----+-------+-----+-------+-----------+-----+\n",
      "|survived| sex| age|n_siblings_spouses|parch|   fare|class|   deck|embark_town|alone|\n",
      "+--------+----+----+------------------+-----+-------+-----+-------+-----------+-----+\n",
      "|       0|male|35.0|                 0|    0|   8.05|Third|unknown|Southampton|    y|\n",
      "|       0|male|54.0|                 0|    0|51.8625|First|      E|Southampton|    y|\n",
      "+--------+----+----+------------------+-----+-------+-----+-------+-----------+-----+\n",
      "only showing top 2 rows\n",
      "\n"
     ]
    }
   ],
   "source": [
    "data.show(2)"
   ]
  },
  {
   "cell_type": "code",
   "execution_count": 17,
   "metadata": {},
   "outputs": [
    {
     "name": "stdout",
     "output_type": "stream",
     "text": [
      "+----+\n",
      "| sex|\n",
      "+----+\n",
      "|male|\n",
      "|male|\n",
      "+----+\n",
      "only showing top 2 rows\n",
      "\n"
     ]
    }
   ],
   "source": [
    "data.select(\"sex\").show(2)"
   ]
  },
  {
   "cell_type": "code",
   "execution_count": 18,
   "metadata": {},
   "outputs": [],
   "source": [
    "data.createOrReplaceTempView(\"titanic\")"
   ]
  },
  {
   "cell_type": "code",
   "execution_count": 20,
   "metadata": {},
   "outputs": [
    {
     "name": "stdout",
     "output_type": "stream",
     "text": [
      "+--------+\n",
      "|count(1)|\n",
      "+--------+\n",
      "|     264|\n",
      "+--------+\n",
      "\n"
     ]
    }
   ],
   "source": [
    "spark.sql(\"SELECT COUNT(*)  from titanic\").show()"
   ]
  },
  {
   "cell_type": "code",
   "execution_count": 24,
   "metadata": {},
   "outputs": [
    {
     "name": "stdout",
     "output_type": "stream",
     "text": [
      "root\n",
      " |-- survived: string (nullable = true)\n",
      " |-- sex: string (nullable = true)\n",
      " |-- age: string (nullable = true)\n",
      " |-- n_siblings_spouses: string (nullable = true)\n",
      " |-- parch: string (nullable = true)\n",
      " |-- fare: string (nullable = true)\n",
      " |-- class: string (nullable = true)\n",
      " |-- deck: string (nullable = true)\n",
      " |-- embark_town: string (nullable = true)\n",
      " |-- alone: string (nullable = true)\n",
      "\n"
     ]
    },
    {
     "data": {
      "text/plain": [
       "264"
      ]
     },
     "execution_count": 24,
     "metadata": {},
     "output_type": "execute_result"
    }
   ],
   "source": [
    "data.printSchema()\n",
    "data.count()"
   ]
  },
  {
   "cell_type": "code",
   "execution_count": null,
   "metadata": {},
   "outputs": [],
   "source": [
    "\n"
   ]
  },
  {
   "cell_type": "code",
   "execution_count": 23,
   "metadata": {},
   "outputs": [
    {
     "name": "stdout",
     "output_type": "stream",
     "text": [
      "+------+-----+\n",
      "|   sex|count|\n",
      "+------+-----+\n",
      "|female|   97|\n",
      "|  male|  167|\n",
      "+------+-----+\n",
      "\n"
     ]
    }
   ],
   "source": [
    "data.groupBy(\"sex\")\\\n",
    "    .count()\\\n",
    "    .show()"
   ]
  },
  {
   "cell_type": "code",
   "execution_count": null,
   "metadata": {},
   "outputs": [],
   "source": [
    "(data.select(\"sex\"))"
   ]
  },
  {
   "cell_type": "code",
   "execution_count": null,
   "metadata": {},
   "outputs": [],
   "source": [
    "df1.groupBy(\"timestop\",\"SrcIP\")\\\n",
    "    .agg(f.sum(\"Packets\").alias(\"Paquetes\"),f.sum(\"Bytes\").alias(\"Bytes\")) \\"
   ]
  }
 ],
 "metadata": {
  "kernelspec": {
   "display_name": "Python 3",
   "language": "python",
   "name": "python3"
  },
  "language_info": {
   "codemirror_mode": {
    "name": "ipython",
    "version": 3
   },
   "file_extension": ".py",
   "mimetype": "text/x-python",
   "name": "python",
   "nbconvert_exporter": "python",
   "pygments_lexer": "ipython3",
   "version": "3.7.3"
  }
 },
 "nbformat": 4,
 "nbformat_minor": 2
}
